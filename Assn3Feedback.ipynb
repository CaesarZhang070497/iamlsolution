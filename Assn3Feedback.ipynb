{
 "cells": [
  {
   "cell_type": "markdown",
   "metadata": {},
   "source": [
    "# Introductory applied machine learning (INFR10069)"
   ]
  },
  {
   "cell_type": "markdown",
   "metadata": {},
   "source": [
    "# Assignment 3: Object recognition"
   ]
  },
  {
   "cell_type": "markdown",
   "metadata": {},
   "source": [
    "<span style=\"color:red\">Q1: 64, Q2: 3, total: 67"
   ]
  },
  {
   "cell_type": "markdown",
   "metadata": {},
   "source": [
    "## Marking Breakdown\n",
    "\n",
    "**70-100%** results/answer correct plus extra achievement at understanding or analysis of results. Clear explanations, evidence of creative or deeper thought will contribute to a higher grade.\n",
    "\n",
    "**60-69%** results/answer correct or nearly correct and well explained.\n",
    "\n",
    "**50-59%** results/answer in right direction but significant errors.\n",
    "\n",
    "**40-49%** some evidence that the student has gained some understanding, but not answered the questions\n",
    "properly.\n",
    "\n",
    "**0-39%** serious error or slack work."
   ]
  },
  {
   "cell_type": "markdown",
   "metadata": {},
   "source": [
    "## Mechanics\n",
    "\n",
    "You should produce a Jupyter notebook and a `.txt` file (see Part 2) in answer to this assignment.\n",
    "**You need to submit these two files electronically as described below.**\n",
    "\n",
    "Place your notebook and `.txt` files **only** in a directory called `iamlans` and submit this directory using the submit command on a DICE machine. The format is:\n",
    "\n",
    "`submit iaml 3 iamlans`\n",
    "\n",
    "You can check the status of your submissions with the `show_submissions` command.\n",
    "\n",
    "**Late submissions:** The policy stated in the School of Informatics MSc Degree Guide is that normally you will not be allowed to submit coursework late. See http://www.inf.ed.ac.uk/teaching/years/msc/courseguide10.html#exam for exceptions to this, e.g. in case of serious medical illness or serious personal problems.\n",
    "\n",
    "**Collaboration:** You may discuss the assignment with your colleagues, provided that the writing that you submit is entirely your own. That is, you should NOT borrow actual text or code from other students. We ask that you provide a list of the people who you've had discussions with (if any).\n"
   ]
  },
  {
   "cell_type": "markdown",
   "metadata": {},
   "source": [
    "## Important Instructions\n",
    "\n",
    "1. In the following questions you are asked to run experiments using Python (version 2.7) and the following packages:\n",
    "    * Numpy\n",
    "    * Pandas\n",
    "    * Scikit-learn 0.17\n",
    "    * Matplotlib\n",
    "    * Seaborn\n",
    "\n",
    "2. Before you start make sure you have set up a vitual environment (or conda environment if you are working on your own machine) and the required packages installed. Instructions on how to set-up the working enviornment and install the required packages can be found in `01_Lab_1_Introduction`.\n",
    "\n",
    "3. Wherever you are required to produce code you should use code cells, otherwise you should use markdown cells to report results and explain answers.\n",
    "\n",
    "4. The .csv files that you will be using are located at `./datasets` (the `datasets` directory is adjacent to this file).\n",
    "\n",
    "5. **IMPORTANT:** Keep your answers brief and concise. Most questions can be answered with 2-3 lines of explanation (excluding coding questions), unless stated otherwise."
   ]
  },
  {
   "cell_type": "markdown",
   "metadata": {},
   "source": [
    "## Imports\n",
    "\n",
    "In this assignment you are asked to import all the packages and modules you will need. Include all required imports and execute the cell below."
   ]
  },
  {
   "cell_type": "code",
   "execution_count": 3,
   "metadata": {
    "collapsed": false
   },
   "outputs": [],
   "source": [
    "from __future__ import division, print_function # Imports from __future__ since we're running Python 2\n",
    "import os\n",
    "import numpy as np \n",
    "import pandas as pd\n",
    "import matplotlib.pyplot as plt\n",
    "import seaborn as sns\n",
    "from sklearn.cross_validation import train_test_split, KFold\n",
    "from sklearn.linear_model import LogisticRegression, LogisticRegressionCV\n",
    "from sklearn.svm import SVC\n",
    "from sklearn.ensemble import RandomForestClassifier\n",
    "from sklearn.tree import DecisionTreeClassifier\n",
    "from sklearn.naive_bayes import GaussianNB\n",
    "from sklearn.neighbors import KNeighborsClassifier\n",
    "from sklearn.metrics import accuracy_score\n",
    "from sklearn import preprocessing\n",
    "from numpy import unravel_index\n",
    "from matplotlib.colors import ListedColormap\n",
    "from numpy import linspace\n",
    "%matplotlib inline"
   ]
  },
  {
   "cell_type": "markdown",
   "metadata": {},
   "source": [
    "## Description of the dataset\n",
    "In this assignment our goal is to recognize objects from 19 di\u000b",
    "erent visual classes (e.g. person, dog, cat, car, ...) in realistic scenes. The dataset consists of several thousands photographs harvested from the web. Each object of a relevant class has been manually annotated with a bounding box. Images can contain none, one or multiple objects of each class. We have prepared a [website](http://www.inf.ed.ac.uk/teaching/courses/iaml/2014/assts/asst3/images.html) where you can view the images.\n",
    "\n",
    "Here we will focus on a single classiffication task: you will be required to classify images as to whether or not they contain a person. To save you time and to make the problem manageable with limited computational resources, we have preprocessed the dataset. We will use the [Bag of Visual Words](https://en.wikipedia.org/wiki/Bag-of-words_model_in_computer_vision) representation. That is, each image is represented by a 500 dimensional vector that contains the normalized count for each of 500 diffeerent visual words present in the respective image (a similar representation is used for the spambase dataset, just for real words). Visual words are based on [Scale-invariant feature transforms (SIFT)](https://en.wikipedia.org/wiki/Scale-invariant_feature_transform). SIFT features are essentially local orientation histograms and capture the properties of small image regions. They possess attractive invariance properties which make them well suited for our task (you can read more about SIFT features in [D.Lowe, IJCV 60(2):91- 110, 2004](http://link.springer.com/article/10.1023/B:VISI.0000029664.99615.94), but the details don't matter for the purpose of this assignment). Each SIFT feature is a 128 dimensional vector. From each image many SIFT features are extracted, typically > 2500 per image (features are extracted at regular intervals using a 15 pixel grid and at 4 different scales). To obtain visual words a representative subset of all extracted SIFT features from all images is chosen and clustered with k-means using 500 centres (such use of the k-means algorithm will be discussed in detail during the lecture). These 500 cluster centres form our visual words. The representation of a single image is obtained by first assigning each SIFT feature extracted from the image to the appropriate cluster (i.e. we determine the visual word corresponding to each feature by picking the closest cluster centre). We then count the number of features from that image assigned to each cluster (i.e. we determine how often each visual word is present in the image). This results in a 500 dimensional count vector for each image (one dimension for each visual word). The normalized version of this count vector gives the final representation of the image (normalized means that we divide the count vector by the total number of visual words in the image, i.e. the normalized counts sum to 1 for each image). Our dataset with all images is thus a $N \\times 500$ dimensional matrix where `N` is the number of images. The resulting representation is much more compact and can be used directly to perform classiffication.\n",
    "\n",
    "The full dataset has 520 attributes (dimensions). The first attribute (`imgID`) contains the image ID which allows you to associate a data point with an actual image. The next 500 attributes (`dim1`, ..., `dim500`) correspond to the normalized count vector. The last 19 attributes (`is_class`) indicate the presence of at least one object of a particular class in the image. In most of the experiments (unless explicitly noted otherwise) you will be asked to train classiffiers for classifying person vs. non-person images and only the `is_person` attribute and the 500 dimensional feature vector will be used. Do not use the additional class indicator attributes as features unless explicitly told to do so. \n",
    "\n",
    "In Part A we provide you with a training (`train_images partA.csv`) and a validation (`valid_images partA .csv`) dataset. In Part B we provide three data sets: a training set (`train_images partB.csv`), a validation set (`valid_images partB.csv`), and a test set (`test_images partB.csv`). The training and validation set contain valid labels. In the test set the labels are missing. The files are available from the GitHub repository. \n",
    "\n",
    "*Important: Throughout the assignment you will be given various versions of the dataset that are relevant\n",
    "to a particular question. Please be careful to use the correct version of the dataset when instructed to do so.\n",
    "If you use the wrong version of the dataset by mistake no marks will be awarded.*"
   ]
  },
  {
   "cell_type": "markdown",
   "metadata": {},
   "source": [
    "## 1. Exploration of the dataset [70%]"
   ]
  },
  {
   "cell_type": "markdown",
   "metadata": {},
   "source": [
    "### ========== Question 1.1 ==========\n",
    "Load the datasets `train_images_partA.csv` and `valid_images_partA.csv` into two pandas DataFrame called `train_A` and `valid_A`. Display the number of data points and attributes in each of the two datasets."
   ]
  },
  {
   "cell_type": "code",
   "execution_count": 83,
   "metadata": {
    "collapsed": false
   },
   "outputs": [
    {
     "name": "stdout",
     "output_type": "stream",
     "text": [
      "Number of datapoints train_A: 2093\n",
      "Number of datapoints in valid_A: 1113\n"
     ]
    }
   ],
   "source": [
    "# Load the dataset \n",
    "data_path = os.path.join(os.getcwd(), 'datasets', 'train_images_partA.csv')\n",
    "train_A = pd.read_csv(data_path, delimiter = ',')\n",
    "print(\"Number of datapoints train_A: {}\".format(train_A.shape[0]))\n",
    "\n",
    "data_path = os.path.join(os.getcwd(), 'datasets', 'valid_images_partA.csv')\n",
    "valid_A = pd.read_csv(data_path, delimiter = ',')\n",
    "print(\"Number of datapoints in valid_A: {}\".format(valid_A.shape[0]))"
   ]
  },
  {
   "cell_type": "markdown",
   "metadata": {},
   "source": [
    "<span style=\"color:red\">OK"
   ]
  },
  {
   "cell_type": "markdown",
   "metadata": {},
   "source": [
    "### ========== Question 1.2 ==========\n",
    "Display and inspect the first 10 instances in the training dataset."
   ]
  },
  {
   "cell_type": "code",
   "execution_count": 84,
   "metadata": {
    "collapsed": false
   },
   "outputs": [
    {
     "data": {
      "text/html": [
       "<div>\n",
       "<table border=\"1\" class=\"dataframe\">\n",
       "  <thead>\n",
       "    <tr style=\"text-align: right;\">\n",
       "      <th></th>\n",
       "      <th>imgId</th>\n",
       "      <th>dim1</th>\n",
       "      <th>dim2</th>\n",
       "      <th>dim3</th>\n",
       "      <th>dim4</th>\n",
       "      <th>dim5</th>\n",
       "      <th>dim6</th>\n",
       "      <th>dim7</th>\n",
       "      <th>dim8</th>\n",
       "      <th>dim9</th>\n",
       "      <th>...</th>\n",
       "      <th>is_cow</th>\n",
       "      <th>is_diningtable</th>\n",
       "      <th>is_dog</th>\n",
       "      <th>is_horse</th>\n",
       "      <th>is_motorbike</th>\n",
       "      <th>is_person</th>\n",
       "      <th>is_pottedplant</th>\n",
       "      <th>is_sheep</th>\n",
       "      <th>is_sofa</th>\n",
       "      <th>is_tvmonitor</th>\n",
       "    </tr>\n",
       "  </thead>\n",
       "  <tbody>\n",
       "    <tr>\n",
       "      <th>0</th>\n",
       "      <td>2008_000008</td>\n",
       "      <td>0.002232</td>\n",
       "      <td>0.000558</td>\n",
       "      <td>0.002790</td>\n",
       "      <td>0.000837</td>\n",
       "      <td>0.001674</td>\n",
       "      <td>0.001953</td>\n",
       "      <td>0.001395</td>\n",
       "      <td>0.002232</td>\n",
       "      <td>0.003627</td>\n",
       "      <td>...</td>\n",
       "      <td>0</td>\n",
       "      <td>0</td>\n",
       "      <td>0</td>\n",
       "      <td>1</td>\n",
       "      <td>0</td>\n",
       "      <td>1</td>\n",
       "      <td>0</td>\n",
       "      <td>0</td>\n",
       "      <td>0</td>\n",
       "      <td>0</td>\n",
       "    </tr>\n",
       "    <tr>\n",
       "      <th>1</th>\n",
       "      <td>2008_000015</td>\n",
       "      <td>0.001563</td>\n",
       "      <td>0.000391</td>\n",
       "      <td>0.007422</td>\n",
       "      <td>0.003516</td>\n",
       "      <td>0.003906</td>\n",
       "      <td>0.005078</td>\n",
       "      <td>0.001953</td>\n",
       "      <td>0.002344</td>\n",
       "      <td>0.001953</td>\n",
       "      <td>...</td>\n",
       "      <td>0</td>\n",
       "      <td>0</td>\n",
       "      <td>0</td>\n",
       "      <td>0</td>\n",
       "      <td>0</td>\n",
       "      <td>0</td>\n",
       "      <td>0</td>\n",
       "      <td>0</td>\n",
       "      <td>0</td>\n",
       "      <td>0</td>\n",
       "    </tr>\n",
       "    <tr>\n",
       "      <th>2</th>\n",
       "      <td>2008_000019</td>\n",
       "      <td>0.000521</td>\n",
       "      <td>0.000000</td>\n",
       "      <td>0.000000</td>\n",
       "      <td>0.001042</td>\n",
       "      <td>0.001563</td>\n",
       "      <td>0.005729</td>\n",
       "      <td>0.000521</td>\n",
       "      <td>0.002083</td>\n",
       "      <td>0.003646</td>\n",
       "      <td>...</td>\n",
       "      <td>0</td>\n",
       "      <td>0</td>\n",
       "      <td>1</td>\n",
       "      <td>0</td>\n",
       "      <td>0</td>\n",
       "      <td>0</td>\n",
       "      <td>0</td>\n",
       "      <td>0</td>\n",
       "      <td>0</td>\n",
       "      <td>0</td>\n",
       "    </tr>\n",
       "    <tr>\n",
       "      <th>3</th>\n",
       "      <td>2008_000023</td>\n",
       "      <td>0.002976</td>\n",
       "      <td>0.002232</td>\n",
       "      <td>0.004464</td>\n",
       "      <td>0.000372</td>\n",
       "      <td>0.000372</td>\n",
       "      <td>0.002232</td>\n",
       "      <td>0.000000</td>\n",
       "      <td>0.003720</td>\n",
       "      <td>0.000000</td>\n",
       "      <td>...</td>\n",
       "      <td>0</td>\n",
       "      <td>0</td>\n",
       "      <td>0</td>\n",
       "      <td>0</td>\n",
       "      <td>0</td>\n",
       "      <td>1</td>\n",
       "      <td>0</td>\n",
       "      <td>0</td>\n",
       "      <td>0</td>\n",
       "      <td>1</td>\n",
       "    </tr>\n",
       "    <tr>\n",
       "      <th>4</th>\n",
       "      <td>2008_000028</td>\n",
       "      <td>0.001359</td>\n",
       "      <td>0.000340</td>\n",
       "      <td>0.001359</td>\n",
       "      <td>0.000340</td>\n",
       "      <td>0.001359</td>\n",
       "      <td>0.002038</td>\n",
       "      <td>0.002378</td>\n",
       "      <td>0.000000</td>\n",
       "      <td>0.003397</td>\n",
       "      <td>...</td>\n",
       "      <td>0</td>\n",
       "      <td>0</td>\n",
       "      <td>0</td>\n",
       "      <td>0</td>\n",
       "      <td>0</td>\n",
       "      <td>0</td>\n",
       "      <td>0</td>\n",
       "      <td>0</td>\n",
       "      <td>0</td>\n",
       "      <td>0</td>\n",
       "    </tr>\n",
       "    <tr>\n",
       "      <th>5</th>\n",
       "      <td>2008_000033</td>\n",
       "      <td>0.000000</td>\n",
       "      <td>0.006324</td>\n",
       "      <td>0.000372</td>\n",
       "      <td>0.000372</td>\n",
       "      <td>0.000372</td>\n",
       "      <td>0.000372</td>\n",
       "      <td>0.000744</td>\n",
       "      <td>0.008185</td>\n",
       "      <td>0.000372</td>\n",
       "      <td>...</td>\n",
       "      <td>0</td>\n",
       "      <td>0</td>\n",
       "      <td>0</td>\n",
       "      <td>0</td>\n",
       "      <td>0</td>\n",
       "      <td>0</td>\n",
       "      <td>0</td>\n",
       "      <td>0</td>\n",
       "      <td>0</td>\n",
       "      <td>0</td>\n",
       "    </tr>\n",
       "    <tr>\n",
       "      <th>6</th>\n",
       "      <td>2008_000036</td>\n",
       "      <td>0.000340</td>\n",
       "      <td>0.000000</td>\n",
       "      <td>0.004416</td>\n",
       "      <td>0.000340</td>\n",
       "      <td>0.000679</td>\n",
       "      <td>0.006114</td>\n",
       "      <td>0.001359</td>\n",
       "      <td>0.002717</td>\n",
       "      <td>0.003057</td>\n",
       "      <td>...</td>\n",
       "      <td>0</td>\n",
       "      <td>0</td>\n",
       "      <td>0</td>\n",
       "      <td>0</td>\n",
       "      <td>0</td>\n",
       "      <td>1</td>\n",
       "      <td>0</td>\n",
       "      <td>0</td>\n",
       "      <td>0</td>\n",
       "      <td>0</td>\n",
       "    </tr>\n",
       "    <tr>\n",
       "      <th>7</th>\n",
       "      <td>2008_000037</td>\n",
       "      <td>0.000837</td>\n",
       "      <td>0.002232</td>\n",
       "      <td>0.000279</td>\n",
       "      <td>0.000279</td>\n",
       "      <td>0.000837</td>\n",
       "      <td>0.000000</td>\n",
       "      <td>0.000279</td>\n",
       "      <td>0.006696</td>\n",
       "      <td>0.000000</td>\n",
       "      <td>...</td>\n",
       "      <td>0</td>\n",
       "      <td>0</td>\n",
       "      <td>0</td>\n",
       "      <td>0</td>\n",
       "      <td>0</td>\n",
       "      <td>0</td>\n",
       "      <td>0</td>\n",
       "      <td>0</td>\n",
       "      <td>0</td>\n",
       "      <td>0</td>\n",
       "    </tr>\n",
       "    <tr>\n",
       "      <th>8</th>\n",
       "      <td>2008_000041</td>\n",
       "      <td>0.002378</td>\n",
       "      <td>0.001359</td>\n",
       "      <td>0.004755</td>\n",
       "      <td>0.001019</td>\n",
       "      <td>0.003736</td>\n",
       "      <td>0.001359</td>\n",
       "      <td>0.001019</td>\n",
       "      <td>0.004076</td>\n",
       "      <td>0.003397</td>\n",
       "      <td>...</td>\n",
       "      <td>0</td>\n",
       "      <td>1</td>\n",
       "      <td>0</td>\n",
       "      <td>0</td>\n",
       "      <td>0</td>\n",
       "      <td>1</td>\n",
       "      <td>0</td>\n",
       "      <td>0</td>\n",
       "      <td>0</td>\n",
       "      <td>0</td>\n",
       "    </tr>\n",
       "    <tr>\n",
       "      <th>9</th>\n",
       "      <td>2008_000045</td>\n",
       "      <td>0.001019</td>\n",
       "      <td>0.000340</td>\n",
       "      <td>0.006454</td>\n",
       "      <td>0.001698</td>\n",
       "      <td>0.001359</td>\n",
       "      <td>0.003736</td>\n",
       "      <td>0.000000</td>\n",
       "      <td>0.004076</td>\n",
       "      <td>0.000000</td>\n",
       "      <td>...</td>\n",
       "      <td>0</td>\n",
       "      <td>0</td>\n",
       "      <td>0</td>\n",
       "      <td>0</td>\n",
       "      <td>0</td>\n",
       "      <td>0</td>\n",
       "      <td>0</td>\n",
       "      <td>0</td>\n",
       "      <td>0</td>\n",
       "      <td>0</td>\n",
       "    </tr>\n",
       "  </tbody>\n",
       "</table>\n",
       "<p>10 rows � 520 columns</p>\n",
       "</div>"
      ],
      "text/plain": [
       "         imgId      dim1      dim2      dim3      dim4      dim5      dim6  \\\n",
       "0  2008_000008  0.002232  0.000558  0.002790  0.000837  0.001674  0.001953   \n",
       "1  2008_000015  0.001563  0.000391  0.007422  0.003516  0.003906  0.005078   \n",
       "2  2008_000019  0.000521  0.000000  0.000000  0.001042  0.001563  0.005729   \n",
       "3  2008_000023  0.002976  0.002232  0.004464  0.000372  0.000372  0.002232   \n",
       "4  2008_000028  0.001359  0.000340  0.001359  0.000340  0.001359  0.002038   \n",
       "5  2008_000033  0.000000  0.006324  0.000372  0.000372  0.000372  0.000372   \n",
       "6  2008_000036  0.000340  0.000000  0.004416  0.000340  0.000679  0.006114   \n",
       "7  2008_000037  0.000837  0.002232  0.000279  0.000279  0.000837  0.000000   \n",
       "8  2008_000041  0.002378  0.001359  0.004755  0.001019  0.003736  0.001359   \n",
       "9  2008_000045  0.001019  0.000340  0.006454  0.001698  0.001359  0.003736   \n",
       "\n",
       "       dim7      dim8      dim9      ...       is_cow  is_diningtable  is_dog  \\\n",
       "0  0.001395  0.002232  0.003627      ...            0               0       0   \n",
       "1  0.001953  0.002344  0.001953      ...            0               0       0   \n",
       "2  0.000521  0.002083  0.003646      ...            0               0       1   \n",
       "3  0.000000  0.003720  0.000000      ...            0               0       0   \n",
       "4  0.002378  0.000000  0.003397      ...            0               0       0   \n",
       "5  0.000744  0.008185  0.000372      ...            0               0       0   \n",
       "6  0.001359  0.002717  0.003057      ...            0               0       0   \n",
       "7  0.000279  0.006696  0.000000      ...            0               0       0   \n",
       "8  0.001019  0.004076  0.003397      ...            0               1       0   \n",
       "9  0.000000  0.004076  0.000000      ...            0               0       0   \n",
       "\n",
       "   is_horse  is_motorbike  is_person  is_pottedplant  is_sheep  is_sofa  \\\n",
       "0         1             0          1               0         0        0   \n",
       "1         0             0          0               0         0        0   \n",
       "2         0             0          0               0         0        0   \n",
       "3         0             0          1               0         0        0   \n",
       "4         0             0          0               0         0        0   \n",
       "5         0             0          0               0         0        0   \n",
       "6         0             0          1               0         0        0   \n",
       "7         0             0          0               0         0        0   \n",
       "8         0             0          1               0         0        0   \n",
       "9         0             0          0               0         0        0   \n",
       "\n",
       "   is_tvmonitor  \n",
       "0             0  \n",
       "1             0  \n",
       "2             0  \n",
       "3             1  \n",
       "4             0  \n",
       "5             0  \n",
       "6             0  \n",
       "7             0  \n",
       "8             0  \n",
       "9             0  \n",
       "\n",
       "[10 rows x 520 columns]"
      ]
     },
     "execution_count": 84,
     "metadata": {},
     "output_type": "execute_result"
    }
   ],
   "source": [
    "train_A.head(10)"
   ]
  },
  {
   "cell_type": "markdown",
   "metadata": {},
   "source": [
    "<span style=\"color:red\">OK"
   ]
  },
  {
   "cell_type": "markdown",
   "metadata": {},
   "source": [
    "### ========== Question 1.3 ==========\n",
    "In this part we want to select the appopriate attributes (i.e. input features) for training our classifiers. These should be the attributes `dim1, dim2, ..., dim500`. Create a list which has as elements the **names** of the attributes of interest. "
   ]
  },
  {
   "cell_type": "code",
   "execution_count": 85,
   "metadata": {
    "collapsed": false
   },
   "outputs": [
    {
     "name": "stdout",
     "output_type": "stream",
     "text": [
      "Attributes of Interest \\(as list\\): \n",
      "['dim1', 'dim2', 'dim3', 'dim4', 'dim5', 'dim6', 'dim7', 'dim8', 'dim9', 'dim10', 'dim11', 'dim12', 'dim13', 'dim14', 'dim15', 'dim16', 'dim17', 'dim18', 'dim19', 'dim20', 'dim21', 'dim22', 'dim23', 'dim24', 'dim25', 'dim26', 'dim27', 'dim28', 'dim29', 'dim30', 'dim31', 'dim32', 'dim33', 'dim34', 'dim35', 'dim36', 'dim37', 'dim38', 'dim39', 'dim40', 'dim41', 'dim42', 'dim43', 'dim44', 'dim45', 'dim46', 'dim47', 'dim48', 'dim49', 'dim50', 'dim51', 'dim52', 'dim53', 'dim54', 'dim55', 'dim56', 'dim57', 'dim58', 'dim59', 'dim60', 'dim61', 'dim62', 'dim63', 'dim64', 'dim65', 'dim66', 'dim67', 'dim68', 'dim69', 'dim70', 'dim71', 'dim72', 'dim73', 'dim74', 'dim75', 'dim76', 'dim77', 'dim78', 'dim79', 'dim80', 'dim81', 'dim82', 'dim83', 'dim84', 'dim85', 'dim86', 'dim87', 'dim88', 'dim89', 'dim90', 'dim91', 'dim92', 'dim93', 'dim94', 'dim95', 'dim96', 'dim97', 'dim98', 'dim99', 'dim100', 'dim101', 'dim102', 'dim103', 'dim104', 'dim105', 'dim106', 'dim107', 'dim108', 'dim109', 'dim110', 'dim111', 'dim112', 'dim113', 'dim114', 'dim115', 'dim116', 'dim117', 'dim118', 'dim119', 'dim120', 'dim121', 'dim122', 'dim123', 'dim124', 'dim125', 'dim126', 'dim127', 'dim128', 'dim129', 'dim130', 'dim131', 'dim132', 'dim133', 'dim134', 'dim135', 'dim136', 'dim137', 'dim138', 'dim139', 'dim140', 'dim141', 'dim142', 'dim143', 'dim144', 'dim145', 'dim146', 'dim147', 'dim148', 'dim149', 'dim150', 'dim151', 'dim152', 'dim153', 'dim154', 'dim155', 'dim156', 'dim157', 'dim158', 'dim159', 'dim160', 'dim161', 'dim162', 'dim163', 'dim164', 'dim165', 'dim166', 'dim167', 'dim168', 'dim169', 'dim170', 'dim171', 'dim172', 'dim173', 'dim174', 'dim175', 'dim176', 'dim177', 'dim178', 'dim179', 'dim180', 'dim181', 'dim182', 'dim183', 'dim184', 'dim185', 'dim186', 'dim187', 'dim188', 'dim189', 'dim190', 'dim191', 'dim192', 'dim193', 'dim194', 'dim195', 'dim196', 'dim197', 'dim198', 'dim199', 'dim200', 'dim201', 'dim202', 'dim203', 'dim204', 'dim205', 'dim206', 'dim207', 'dim208', 'dim209', 'dim210', 'dim211', 'dim212', 'dim213', 'dim214', 'dim215', 'dim216', 'dim217', 'dim218', 'dim219', 'dim220', 'dim221', 'dim222', 'dim223', 'dim224', 'dim225', 'dim226', 'dim227', 'dim228', 'dim229', 'dim230', 'dim231', 'dim232', 'dim233', 'dim234', 'dim235', 'dim236', 'dim237', 'dim238', 'dim239', 'dim240', 'dim241', 'dim242', 'dim243', 'dim244', 'dim245', 'dim246', 'dim247', 'dim248', 'dim249', 'dim250', 'dim251', 'dim252', 'dim253', 'dim254', 'dim255', 'dim256', 'dim257', 'dim258', 'dim259', 'dim260', 'dim261', 'dim262', 'dim263', 'dim264', 'dim265', 'dim266', 'dim267', 'dim268', 'dim269', 'dim270', 'dim271', 'dim272', 'dim273', 'dim274', 'dim275', 'dim276', 'dim277', 'dim278', 'dim279', 'dim280', 'dim281', 'dim282', 'dim283', 'dim284', 'dim285', 'dim286', 'dim287', 'dim288', 'dim289', 'dim290', 'dim291', 'dim292', 'dim293', 'dim294', 'dim295', 'dim296', 'dim297', 'dim298', 'dim299', 'dim300', 'dim301', 'dim302', 'dim303', 'dim304', 'dim305', 'dim306', 'dim307', 'dim308', 'dim309', 'dim310', 'dim311', 'dim312', 'dim313', 'dim314', 'dim315', 'dim316', 'dim317', 'dim318', 'dim319', 'dim320', 'dim321', 'dim322', 'dim323', 'dim324', 'dim325', 'dim326', 'dim327', 'dim328', 'dim329', 'dim330', 'dim331', 'dim332', 'dim333', 'dim334', 'dim335', 'dim336', 'dim337', 'dim338', 'dim339', 'dim340', 'dim341', 'dim342', 'dim343', 'dim344', 'dim345', 'dim346', 'dim347', 'dim348', 'dim349', 'dim350', 'dim351', 'dim352', 'dim353', 'dim354', 'dim355', 'dim356', 'dim357', 'dim358', 'dim359', 'dim360', 'dim361', 'dim362', 'dim363', 'dim364', 'dim365', 'dim366', 'dim367', 'dim368', 'dim369', 'dim370', 'dim371', 'dim372', 'dim373', 'dim374', 'dim375', 'dim376', 'dim377', 'dim378', 'dim379', 'dim380', 'dim381', 'dim382', 'dim383', 'dim384', 'dim385', 'dim386', 'dim387', 'dim388', 'dim389', 'dim390', 'dim391', 'dim392', 'dim393', 'dim394', 'dim395', 'dim396', 'dim397', 'dim398', 'dim399', 'dim400', 'dim401', 'dim402', 'dim403', 'dim404', 'dim405', 'dim406', 'dim407', 'dim408', 'dim409', 'dim410', 'dim411', 'dim412', 'dim413', 'dim414', 'dim415', 'dim416', 'dim417', 'dim418', 'dim419', 'dim420', 'dim421', 'dim422', 'dim423', 'dim424', 'dim425', 'dim426', 'dim427', 'dim428', 'dim429', 'dim430', 'dim431', 'dim432', 'dim433', 'dim434', 'dim435', 'dim436', 'dim437', 'dim438', 'dim439', 'dim440', 'dim441', 'dim442', 'dim443', 'dim444', 'dim445', 'dim446', 'dim447', 'dim448', 'dim449', 'dim450', 'dim451', 'dim452', 'dim453', 'dim454', 'dim455', 'dim456', 'dim457', 'dim458', 'dim459', 'dim460', 'dim461', 'dim462', 'dim463', 'dim464', 'dim465', 'dim466', 'dim467', 'dim468', 'dim469', 'dim470', 'dim471', 'dim472', 'dim473', 'dim474', 'dim475', 'dim476', 'dim477', 'dim478', 'dim479', 'dim480', 'dim481', 'dim482', 'dim483', 'dim484', 'dim485', 'dim486', 'dim487', 'dim488', 'dim489', 'dim490', 'dim491', 'dim492', 'dim493', 'dim494', 'dim495', 'dim496', 'dim497', 'dim498', 'dim499', 'dim500']\n"
     ]
    }
   ],
   "source": [
    "attributes_of_interest = train_A.columns[1:501].tolist()\n",
    "print(\"Attributes of Interest \\(as list\\): \\n{}\".format(attributes_of_interest))"
   ]
  },
  {
   "cell_type": "markdown",
   "metadata": {},
   "source": [
    "<span style=\"color:red\">OK"
   ]
  },
  {
   "cell_type": "markdown",
   "metadata": {},
   "source": [
    "### ========== Question 1.4 --- [1 mark] ==========\n",
    "By using the list from Question 1.3 now create 4 numpy arrays `X_tr`, `X_val`, `y_tr` and `y_val` and store the training features, validation features, training targets, and validation targets, respectively. Your target vectors should correspond to the `is_person` attribute of the training and validation sets (also make sure you do not include this attribute in your training features). Display the dimensionalities (i.e shapes) of the 4 arrays and make sure your input data are 500-dimensional."
   ]
  },
  {
   "cell_type": "code",
   "execution_count": 86,
   "metadata": {
    "collapsed": false
   },
   "outputs": [
    {
     "name": "stdout",
     "output_type": "stream",
     "text": [
      "X_tr shape: (2093, 500)\n",
      "X_val shape: (1113, 500)\n",
      "y_tr shape: (2093,)\n",
      "y_val shape: (1113,)\n"
     ]
    }
   ],
   "source": [
    "# split dataset\n",
    "X_tr = train_A[attributes_of_interest]\n",
    "y_tr = train_A['is_person']\n",
    "X_val = valid_A[attributes_of_interest]\n",
    "y_val = valid_A['is_person']\n",
    "\n",
    "print(\"X_tr shape: {}\".format(X_tr.shape))\n",
    "print(\"X_val shape: {}\".format(X_val.shape))\n",
    "print(\"y_tr shape: {}\".format(y_tr.shape))\n",
    "print(\"y_val shape: {}\".format(y_val.shape))"
   ]
  },
  {
   "cell_type": "markdown",
   "metadata": {},
   "source": [
    "<span style=\"color:red\">OK"
   ]
  },
  {
   "cell_type": "markdown",
   "metadata": {},
   "source": [
    "### ========== Question 1.5 ==========\n",
    "Show two [countplots](https://seaborn.github.io/generated/seaborn.countplot.html?highlight=countplot#seaborn.countplot) of the targets in a single plot, one for the training and one for the validation set. Label axes appropriately and add a title to your plot. Use descriptive `xticklabels` instead of the default numeric ones."
   ]
  },
  {
   "cell_type": "code",
   "execution_count": 87,
   "metadata": {
    "collapsed": false
   },
   "outputs": [
    {
     "data": {
      "image/png": "[encoded data removed]",
      "text/plain": [
       "<matplotlib.figure.Figure at 0x120439510>"
      ]
     },
     "metadata": {},
     "output_type": "display_data"
    }
   ],
   "source": [
    "fig = plt.figure()\n",
    "\n",
    "ax1 = fig.add_subplot(221)\n",
    "ax1 = sns.countplot(x=y_tr)\n",
    "ax1.set_title('Number of People in Training Set')\n",
    "ax1.set_ylabel('Count')\n",
    "ax1.set_xlabel('')\n",
    "ax1.set_xticklabels(['NOT a person', 'IS a person'])\n",
    "\n",
    "ax2 = fig.add_subplot(222)\n",
    "ax2 = sns.countplot(x=y_val)\n",
    "ax2.set_ylim([0, 1000])\n",
    "ax2.set_title('Number of People in Validation Set')\n",
    "ax2.set_ylabel('')\n",
    "ax2.set_xlabel('')\n",
    "ax2.set_xticklabels(['NOT a person', 'IS a person'])\n",
    "\n",
    "\n",
    "fig.suptitle('Sharing Y Axis', fontsize=14)\n",
    "fig.set_figheight(15)\n",
    "fig.set_figwidth(15)\n",
    "\n",
    "plt.show()\n"
   ]
  },
  {
   "cell_type": "markdown",
   "metadata": {},
   "source": [
    "<span style=\"color:red\">OK"
   ]
  },
  {
   "cell_type": "markdown",
   "metadata": {},
   "source": [
    "### ========== Question 1.6 ==========\n",
    "What would be a good choice for a baseline classifier to compare your results in the next steps against? What classification accuracy score does the baseline classifier achieve in the validation set?"
   ]
  },
  {
   "cell_type": "markdown",
   "metadata": {},
   "source": [
    "As the graphs show, it is more likely that the image is not a person. So as a baseline classifier we could simply predict that the image does not contain a person (0) every time."
   ]
  },
  {
   "cell_type": "markdown",
   "metadata": {},
   "source": [
    "<span style=\"color:red\">OK"
   ]
  },
  {
   "cell_type": "code",
   "execution_count": 88,
   "metadata": {
    "collapsed": false
   },
   "outputs": [
    {
     "name": "stdout",
     "output_type": "stream",
     "text": [
      "Classification Accuracy Score: 0.526505\n"
     ]
    }
   ],
   "source": [
    "zeros = pd.Series(0, index=np.arange(len(y_val)))\n",
    "ca = accuracy_score(y_val, zeros)\n",
    "print(\"Classification Accuracy Score: {:.6f}\".format(ca))"
   ]
  },
  {
   "cell_type": "markdown",
   "metadata": {},
   "source": [
    "### ========== Question 1.7 ==========\n",
    "Train a [`LogisticRegression`](http://scikit-learn.org/0.17/modules/generated/sklearn.linear_model.LogisticRegression.html) classifier by using default settings, except for the `solver` parameter which you should set to `lbfgs`. Report the classification accuracy score in the training and validation sets and compare to that of the baseline classifier. Comment in 1-2 sentences the results. You may include any additional plot(s) if you wish to justify your explanation."
   ]
  },
  {
   "cell_type": "code",
   "execution_count": 89,
   "metadata": {
    "collapsed": false
   },
   "outputs": [
    {
     "name": "stdout",
     "output_type": "stream",
     "text": [
      "Classification accuracy on training set: 0.550884\n",
      "Classification accuracy on validation set: 0.526505\n"
     ]
    }
   ],
   "source": [
    "# Train a logistic regression classifer\n",
    "lr = LogisticRegression(solver='lbfgs')\n",
    "lr.fit(X_tr, y_tr)\n",
    "print('Classification accuracy on training set: {:.6f}'.format(lr.score(X_tr, y_tr)))\n",
    "print('Classification accuracy on validation set: {:.6f}'.format(lr.score(X_val, y_val)))\n",
    "\n"
   ]
  },
  {
   "cell_type": "markdown",
   "metadata": {},
   "source": [
    "<span style=\"color:red\">OK"
   ]
  },
  {
   "cell_type": "markdown",
   "metadata": {},
   "source": [
    "Using the logisitic regression classifier we can see this does a poor job by comparing it to the baseline classifier because the classification accuracy for the baseline classifier is .527, and for the logisitic regression classifier it's .55 for the training set and .527 (same thing!!) for the validation set. This tells us the logistic regression classifier is just as effective at predicting if an image contains a person if the predicited not a person (0) all all images. "
   ]
  },
  {
   "cell_type": "markdown",
   "metadata": {},
   "source": [
    "### ========== Question 1.8 ==========\n",
    "Display the means and standard deviations of the first 5 features in the training set. *Hint: you want to compute the means and standard deviations across the columns of your arrays. Make sure you make appropriate use of the `axis` parameter.*"
   ]
  },
  {
   "cell_type": "code",
   "execution_count": 90,
   "metadata": {
    "collapsed": false
   },
   "outputs": [
    {
     "name": "stdout",
     "output_type": "stream",
     "text": [
      "dim1 \n",
      "Mean Value: 0.001751\n",
      "Standard Deviation: 0.001193\n",
      "\n",
      "dim2 \n",
      "Mean Value: 0.000756\n",
      "Standard Deviation: 0.001406\n",
      "\n",
      "dim3 \n",
      "Mean Value: 0.004317\n",
      "Standard Deviation: 0.003693\n",
      "\n",
      "dim4 \n",
      "Mean Value: 0.001853\n",
      "Standard Deviation: 0.001340\n",
      "\n",
      "dim5 \n",
      "Mean Value: 0.001853\n",
      "Standard Deviation: 0.001340\n",
      "\n"
     ]
    }
   ],
   "source": [
    "# Your code goes here\n",
    "np.set_printoptions(precision=3)\n",
    "\n",
    "print(\"dim1 \\nMean Value: {:.6f}\".format(X_tr['dim1'].mean()))\n",
    "print(\"Standard Deviation: {:.6f}\\n\".format(X_tr['dim1'].std()))\n",
    "\n",
    "print(\"dim2 \\nMean Value: {:.6f}\".format(X_tr['dim2'].mean()))\n",
    "print(\"Standard Deviation: {:.6f}\\n\".format(X_tr['dim2'].std()))\n",
    "\n",
    "print(\"dim3 \\nMean Value: {:.6f}\".format(X_tr['dim3'].mean()))\n",
    "print(\"Standard Deviation: {:.6f}\\n\".format(X_tr['dim3'].std()))\n",
    "\n",
    "print(\"dim4 \\nMean Value: {:.6f}\".format(X_tr['dim4'].mean()))\n",
    "print(\"Standard Deviation: {:.6f}\\n\".format(X_tr['dim4'].std()))\n",
    "\n",
    "print(\"dim5 \\nMean Value: {:.6f}\".format(X_tr['dim4'].mean()))\n",
    "print(\"Standard Deviation: {:.6f}\\n\".format(X_tr['dim4'].std()))"
   ]
  },
  {
   "cell_type": "markdown",
   "metadata": {},
   "source": [
    "<span style=\"color:red\">OK"
   ]
  },
  {
   "cell_type": "markdown",
   "metadata": {},
   "source": [
    "### ========== Question 1.9 ==========\n",
    "Feature standardisation is a pre-processing technique used to transform data so that they have zero mean and unit standard deviation. For many algorithms, this is a very important step for training models (both regression and classification). Read about [feature standardisation](http://scikit-learn.org/0.17/modules/preprocessing.html) and make sure you understand what kind of transformation this method applies to the data.\n",
    "\n",
    "`Scikit-learn` offers an [implementation](http://scikit-learn.org/0.17/modules/generated/sklearn.preprocessing.StandardScaler.html) of feature standardisation. Create a standardiser and fit it by using training features only. Then transform both your input and validation input features. \n",
    "\n",
    "Once your training and validation input data have been transformed, display the means and standard deviations of the first 5 attributes for **both** the training and validation sets. Are the results as you expected? Explain your answer in 2-3 sentences. \n",
    "\n",
    "**IMPORTANT: You should use the transformed data for the rest of part A**."
   ]
  },
  {
   "cell_type": "code",
   "execution_count": 91,
   "metadata": {
    "collapsed": false
   },
   "outputs": [
    {
     "name": "stdout",
     "output_type": "stream",
     "text": [
      "Training Set:\n",
      "dim0 \n",
      "Mean Value: -0.000000\n",
      "Standard Deviation: 1.000000\n",
      "\n",
      "dim1 \n",
      "Mean Value: -0.000000\n",
      "Standard Deviation: 1.000000\n",
      "\n",
      "dim2 \n",
      "Mean Value: 0.000000\n",
      "Standard Deviation: 1.000000\n",
      "\n",
      "dim3 \n",
      "Mean Value: 0.000000\n",
      "Standard Deviation: 1.000000\n",
      "\n",
      "dim4 \n",
      "Mean Value: -0.000000\n",
      "Standard Deviation: 1.000000\n",
      "\n",
      "\n",
      "\n",
      "Validation Set:\n",
      "dim0 \n",
      "Mean Value: -0.005506\n",
      "Standard Deviation: 1.013109\n",
      "\n",
      "dim1 \n",
      "Mean Value: -0.038293\n",
      "Standard Deviation: 0.969819\n",
      "\n",
      "dim2 \n",
      "Mean Value: 0.109151\n",
      "Standard Deviation: 1.049228\n",
      "\n",
      "dim3 \n",
      "Mean Value: 0.093693\n",
      "Standard Deviation: 1.056845\n",
      "\n",
      "dim4 \n",
      "Mean Value: 0.030578\n",
      "Standard Deviation: 0.974713\n",
      "\n"
     ]
    }
   ],
   "source": [
    "# Create Standardiser\n",
    "scaler = preprocessing.StandardScaler().fit(X_tr)\n",
    "\n",
    "# Transform both input and validation input features\n",
    "X_tr = scaler.transform(X_tr)\n",
    "X_val = scaler.transform(X_val)\n",
    "\n",
    "print(\"Training Set:\")\n",
    "for i in range(0,5):\n",
    "    print(\"dim{} \\nMean Value: {:.6f}\".format(str(i), X_tr[:,i].mean()))\n",
    "    print(\"Standard Deviation: {:.6f}\\n\".format(X_tr[:,i].std()))\n",
    "    \n",
    "print(\"\\n\\nValidation Set:\")\n",
    "for i in range(0,5):\n",
    "    print(\"dim{} \\nMean Value: {:.6f}\".format(str(i), X_val[:,i].mean()))\n",
    "    print(\"Standard Deviation: {:.6f}\\n\".format(X_val[:,i].std()))\n",
    "    "
   ]
  },
  {
   "cell_type": "markdown",
   "metadata": {},
   "source": [
    "The Standard Scalar standardizes features by removing the mean and scaling to unit variance. This means that the mean will become 0 and standard deviation (unit variance) will become 1, which is the case with our results above. The mean and standard deviation is different for the validation set because we did not use the StandardScalaer() to fit the validation set, only the training set, so this is as expected."
   ]
  },
  {
   "cell_type": "markdown",
   "metadata": {},
   "source": [
    "<span style=\"color:red\">OK"
   ]
  },
  {
   "cell_type": "markdown",
   "metadata": {},
   "source": [
    "### ========== Question 1.10 ==========\n",
    "By using the transformed input data, retrain a `LogisticRegression` classifier. Again, set the `solver` parameter to `lbfgs` and use default settings for the other parameters. Report the classification accuracy in both the training and validation sets. How does your model compare to the baseline classifier from Question 1.6? You may use additional plot(s) to support your explanation."
   ]
  },
  {
   "cell_type": "code",
   "execution_count": 92,
   "metadata": {
    "collapsed": false
   },
   "outputs": [
    {
     "name": "stdout",
     "output_type": "stream",
     "text": [
      "Classification accuracy on training set: 0.810798\n",
      "Classification accuracy on validation set: 0.643306\n"
     ]
    }
   ],
   "source": [
    "# Retrain the Logistic Regression Classifier\n",
    "lr = LogisticRegression(solver='lbfgs')\n",
    "lr.fit(X_tr, y_tr)\n",
    "print('Classification accuracy on training set: {:.6f}'.format(lr.score(X_tr, y_tr)))\n",
    "print('Classification accuracy on validation set: {:.6f}'.format(lr.score(X_val, y_val)))\n"
   ]
  },
  {
   "cell_type": "markdown",
   "metadata": {},
   "source": [
    "With the transformed data, the linear regression classifier performs significantly better than the baseline classifier. It is also important to note that the model performs better on the training set than validation set. This is as expected, because it would be suspicious if a model performed better on the validation set than the training set."
   ]
  },
  {
   "cell_type": "markdown",
   "metadata": {},
   "source": [
    "<span style=\"color:red\">OK"
   ]
  },
  {
   "cell_type": "markdown",
   "metadata": {},
   "source": [
    "### ========== Question 1.11 ==========\n",
    "So far we have used default settings for training the logistic regression classifier. Now, we want to use [K-fold cross-validation](http://scikit-learn.org/0.17/modules/generated/sklearn.cross_validation.KFold.html) to optimise the regularisation parameter `C`. The regularisation parameter controls the degree to which we wish to penalise large magnitudes for the weight vector. Thus, it helps us prevent overfitting and, for logistic regression, it additionally controls the level of confidence in making predictions.\n",
    "\n",
    "We would like to optimise this parameter **by using the transformed training dataset only** and not the validation set. Create a 3-fold cross-validation object for the training dataset. Set the `shuffle` parameter to `True` and the `random_state` to `0`. By using the cross-validation iterator, display the number of test samples in each iteration fold."
   ]
  },
  {
   "cell_type": "code",
   "execution_count": 93,
   "metadata": {
    "collapsed": false
   },
   "outputs": [
    {
     "name": "stdout",
     "output_type": "stream",
     "text": [
      "\n",
      "KFold #1\n",
      "Number of training instances: 1395 \n",
      "Number of testing instances: 698\n",
      "\n",
      "KFold #2\n",
      "Number of training instances: 1395 \n",
      "Number of testing instances: 698\n",
      "\n",
      "KFold #3\n",
      "Number of training instances: 1396 \n",
      "Number of testing instances: 697\n"
     ]
    }
   ],
   "source": [
    "# Create a 3-fold cross-validation object\n",
    "n = X_tr.shape[0]\n",
    "kf = KFold(n, n_folds=3, shuffle=True, random_state=0)\n",
    "\n",
    "j = 1\n",
    "for train_index, test_index in kf:\n",
    "    X_train, X_test = X_tr[train_index, :], X_tr[test_index, :]\n",
    "    y_train, y_test = y_tr[train_index], y_tr[test_index]\n",
    "    print(\"\\nKFold #{}\".format(j))\n",
    "    print(\"Number of training instances: {} \\nNumber of testing instances: {}\".format(X_train.shape[0], X_test.shape[0]))\n",
    "    j+=1"
   ]
  },
  {
   "cell_type": "markdown",
   "metadata": {},
   "source": [
    "<span style=\"color:red\">OK"
   ]
  },
  {
   "cell_type": "markdown",
   "metadata": {},
   "source": [
    "### ========== Question 1.12 ========== \n",
    "Now we want to test out different settings for the regularisation parameter `C` by using the cross-validation iterator from the previous question. For each iteration, we want to train multiple classifiers by using a range of values for `C` and then compute the performance within each CV fold. You should use a log-range for `C` from `1e-5` to `1e5` by using 20 equally-spaced values *(hint: look at the `logspace()` function in numpy)*. \n",
    "\n",
    "Create a 2-dimensional array and, for each cross-validation fold and parameter setting pair, compute and store the classification accuracy score e.g. store the score of fold 0 with parameter setting 1 at score_array[0,1]. As previously, set the `solver` parameter to `lbfgs` and use default settings for the other parameters.\n",
    "\n",
    "*(hint: your may want to use two loops in your code; one iterating over CV folds and another one iterating over the values for `C`)*. "
   ]
  },
  {
   "cell_type": "code",
   "execution_count": 94,
   "metadata": {
    "collapsed": false
   },
   "outputs": [
    {
     "name": "stdout",
     "output_type": "stream",
     "text": [
      "KFold: 1, C: 1e-05\n",
      "\tClassifcation accuracy for Training Set:   0.559140\n",
      "\tClassifcation accuracy for Validation Set: 0.573066\n",
      "KFold: 1, C: 3.35981828628e-05\n",
      "\tClassifcation accuracy for Training Set:   0.658781\n",
      "\tClassifcation accuracy for Validation Set: 0.628940\n",
      "KFold: 1, C: 0.000112883789168\n",
      "\tClassifcation accuracy for Training Set:   0.688889\n",
      "\tClassifcation accuracy for Validation Set: 0.667622\n",
      "KFold: 1, C: 0.000379269019073\n",
      "\tClassifcation accuracy for Training Set:   0.708244\n",
      "\tClassifcation accuracy for Validation Set: 0.671920\n",
      "KFold: 1, C: 0.0012742749857\n",
      "\tClassifcation accuracy for Training Set:   0.750538\n",
      "\tClassifcation accuracy for Validation Set: 0.687679\n",
      "KFold: 1, C: 0.00428133239872\n",
      "\tClassifcation accuracy for Training Set:   0.788530\n",
      "\tClassifcation accuracy for Validation Set: 0.696275\n",
      "KFold: 1, C: 0.0143844988829\n",
      "\tClassifcation accuracy for Training Set:   0.827957\n",
      "\tClassifcation accuracy for Validation Set: 0.674785\n",
      "KFold: 1, C: 0.0483293023857\n",
      "\tClassifcation accuracy for Training Set:   0.857348\n",
      "\tClassifcation accuracy for Validation Set: 0.670487\n",
      "KFold: 1, C: 0.162377673919\n",
      "\tClassifcation accuracy for Training Set:   0.870251\n",
      "\tClassifcation accuracy for Validation Set: 0.653295\n",
      "KFold: 1, C: 0.545559478117\n",
      "\tClassifcation accuracy for Training Set:   0.879570\n",
      "\tClassifcation accuracy for Validation Set: 0.659026\n",
      "KFold: 1, C: 1.83298071083\n",
      "\tClassifcation accuracy for Training Set:   0.886022\n",
      "\tClassifcation accuracy for Validation Set: 0.659026\n",
      "KFold: 1, C: 6.15848211066\n",
      "\tClassifcation accuracy for Training Set:   0.885305\n",
      "\tClassifcation accuracy for Validation Set: 0.653295\n",
      "KFold: 1, C: 20.6913808111\n",
      "\tClassifcation accuracy for Training Set:   0.888889\n",
      "\tClassifcation accuracy for Validation Set: 0.648997\n",
      "KFold: 1, C: 69.5192796178\n",
      "\tClassifcation accuracy for Training Set:   0.889606\n",
      "\tClassifcation accuracy for Validation Set: 0.646132\n",
      "KFold: 1, C: 233.572146909\n",
      "\tClassifcation accuracy for Training Set:   0.888889\n",
      "\tClassifcation accuracy for Validation Set: 0.646132\n",
      "KFold: 1, C: 784.759970351\n",
      "\tClassifcation accuracy for Training Set:   0.889606\n",
      "\tClassifcation accuracy for Validation Set: 0.648997\n",
      "KFold: 1, C: 2636.65089873\n",
      "\tClassifcation accuracy for Training Set:   0.889606\n",
      "\tClassifcation accuracy for Validation Set: 0.646132\n",
      "KFold: 1, C: 8858.6679041\n",
      "\tClassifcation accuracy for Training Set:   0.890323\n",
      "\tClassifcation accuracy for Validation Set: 0.646132\n",
      "KFold: 1, C: 29763.5144163\n",
      "\tClassifcation accuracy for Training Set:   0.888889\n",
      "\tClassifcation accuracy for Validation Set: 0.648997\n",
      "KFold: 1, C: 100000.0\n",
      "\tClassifcation accuracy for Training Set:   0.889606\n",
      "\tClassifcation accuracy for Validation Set: 0.648997\n",
      "\n",
      "\n",
      "KFold: 2, C: 1e-05\n",
      "\tClassifcation accuracy for Training Set:   0.554122\n",
      "\tClassifcation accuracy for Validation Set: 0.545845\n",
      "KFold: 2, C: 3.35981828628e-05\n",
      "\tClassifcation accuracy for Training Set:   0.634409\n",
      "\tClassifcation accuracy for Validation Set: 0.631805\n",
      "KFold: 2, C: 0.000112883789168\n",
      "\tClassifcation accuracy for Training Set:   0.676703\n",
      "\tClassifcation accuracy for Validation Set: 0.694842\n",
      "KFold: 2, C: 0.000379269019073\n",
      "\tClassifcation accuracy for Training Set:   0.702509\n",
      "\tClassifcation accuracy for Validation Set: 0.719198\n",
      "KFold: 2, C: 0.0012742749857\n",
      "\tClassifcation accuracy for Training Set:   0.739068\n",
      "\tClassifcation accuracy for Validation Set: 0.729226\n",
      "KFold: 2, C: 0.00428133239872\n",
      "\tClassifcation accuracy for Training Set:   0.784229\n",
      "\tClassifcation accuracy for Validation Set: 0.734957\n",
      "KFold: 2, C: 0.0143844988829\n",
      "\tClassifcation accuracy for Training Set:   0.824373\n",
      "\tClassifcation accuracy for Validation Set: 0.702006\n",
      "KFold: 2, C: 0.0483293023857\n",
      "\tClassifcation accuracy for Training Set:   0.858781\n",
      "\tClassifcation accuracy for Validation Set: 0.674785\n",
      "KFold: 2, C: 0.162377673919\n",
      "\tClassifcation accuracy for Training Set:   0.868817\n",
      "\tClassifcation accuracy for Validation Set: 0.654728\n",
      "KFold: 2, C: 0.545559478117\n",
      "\tClassifcation accuracy for Training Set:   0.876703\n",
      "\tClassifcation accuracy for Validation Set: 0.636103\n",
      "KFold: 2, C: 1.83298071083\n",
      "\tClassifcation accuracy for Training Set:   0.878853\n",
      "\tClassifcation accuracy for Validation Set: 0.631805\n",
      "KFold: 2, C: 6.15848211066\n",
      "\tClassifcation accuracy for Training Set:   0.877419\n",
      "\tClassifcation accuracy for Validation Set: 0.633238\n",
      "KFold: 2, C: 20.6913808111\n",
      "\tClassifcation accuracy for Training Set:   0.880287\n",
      "\tClassifcation accuracy for Validation Set: 0.626074\n",
      "KFold: 2, C: 69.5192796178\n",
      "\tClassifcation accuracy for Training Set:   0.878136\n",
      "\tClassifcation accuracy for Validation Set: 0.627507\n",
      "KFold: 2, C: 233.572146909\n",
      "\tClassifcation accuracy for Training Set:   0.879570\n",
      "\tClassifcation accuracy for Validation Set: 0.627507\n",
      "KFold: 2, C: 784.759970351\n",
      "\tClassifcation accuracy for Training Set:   0.878853\n",
      "\tClassifcation accuracy for Validation Set: 0.626074\n",
      "KFold: 2, C: 2636.65089873\n",
      "\tClassifcation accuracy for Training Set:   0.878136\n",
      "\tClassifcation accuracy for Validation Set: 0.626074\n",
      "KFold: 2, C: 8858.6679041\n",
      "\tClassifcation accuracy for Training Set:   0.878853\n",
      "\tClassifcation accuracy for Validation Set: 0.626074\n",
      "KFold: 2, C: 29763.5144163\n",
      "\tClassifcation accuracy for Training Set:   0.881720\n",
      "\tClassifcation accuracy for Validation Set: 0.627507\n",
      "KFold: 2, C: 100000.0\n",
      "\tClassifcation accuracy for Training Set:   0.879570\n",
      "\tClassifcation accuracy for Validation Set: 0.626074\n",
      "\n",
      "\n",
      "KFold: 3, C: 1e-05\n",
      "\tClassifcation accuracy for Training Set:   0.553725\n",
      "\tClassifcation accuracy for Validation Set: 0.548063\n",
      "KFold: 3, C: 3.35981828628e-05\n",
      "\tClassifcation accuracy for Training Set:   0.643266\n",
      "\tClassifcation accuracy for Validation Set: 0.635581\n",
      "KFold: 3, C: 0.000112883789168\n",
      "\tClassifcation accuracy for Training Set:   0.697708\n",
      "\tClassifcation accuracy for Validation Set: 0.642755\n",
      "KFold: 3, C: 0.000379269019073\n",
      "\tClassifcation accuracy for Training Set:   0.724212\n",
      "\tClassifcation accuracy for Validation Set: 0.655667\n",
      "KFold: 3, C: 0.0012742749857\n",
      "\tClassifcation accuracy for Training Set:   0.767192\n",
      "\tClassifcation accuracy for Validation Set: 0.680057\n",
      "KFold: 3, C: 0.00428133239872\n",
      "\tClassifcation accuracy for Training Set:   0.798711\n",
      "\tClassifcation accuracy for Validation Set: 0.700143\n",
      "KFold: 3, C: 0.0143844988829\n",
      "\tClassifcation accuracy for Training Set:   0.836676\n",
      "\tClassifcation accuracy for Validation Set: 0.681492\n",
      "KFold: 3, C: 0.0483293023857\n",
      "\tClassifcation accuracy for Training Set:   0.862464\n",
      "\tClassifcation accuracy for Validation Set: 0.670014\n",
      "KFold: 3, C: 0.162377673919\n",
      "\tClassifcation accuracy for Training Set:   0.876791\n",
      "\tClassifcation accuracy for Validation Set: 0.662841\n",
      "KFold: 3, C: 0.545559478117\n",
      "\tClassifcation accuracy for Training Set:   0.880372\n",
      "\tClassifcation accuracy for Validation Set: 0.644189\n",
      "KFold: 3, C: 1.83298071083\n",
      "\tClassifcation accuracy for Training Set:   0.886819\n",
      "\tClassifcation accuracy for Validation Set: 0.632712\n",
      "KFold: 3, C: 6.15848211066\n",
      "\tClassifcation accuracy for Training Set:   0.890401\n",
      "\tClassifcation accuracy for Validation Set: 0.625538\n",
      "KFold: 3, C: 20.6913808111\n",
      "\tClassifcation accuracy for Training Set:   0.891117\n",
      "\tClassifcation accuracy for Validation Set: 0.624103\n",
      "KFold: 3, C: 69.5192796178\n",
      "\tClassifcation accuracy for Training Set:   0.891117\n",
      "\tClassifcation accuracy for Validation Set: 0.624103\n",
      "KFold: 3, C: 233.572146909\n",
      "\tClassifcation accuracy for Training Set:   0.891834\n",
      "\tClassifcation accuracy for Validation Set: 0.624103\n",
      "KFold: 3, C: 784.759970351\n",
      "\tClassifcation accuracy for Training Set:   0.891117\n",
      "\tClassifcation accuracy for Validation Set: 0.624103\n",
      "KFold: 3, C: 2636.65089873\n",
      "\tClassifcation accuracy for Training Set:   0.891117\n",
      "\tClassifcation accuracy for Validation Set: 0.624103\n",
      "KFold: 3, C: 8858.6679041\n",
      "\tClassifcation accuracy for Training Set:   0.891117\n",
      "\tClassifcation accuracy for Validation Set: 0.624103\n",
      "KFold: 3, C: 29763.5144163\n",
      "\tClassifcation accuracy for Training Set:   0.891117\n",
      "\tClassifcation accuracy for Validation Set: 0.624103\n",
      "KFold: 3, C: 100000.0\n",
      "\tClassifcation accuracy for Training Set:   0.891117\n",
      "\tClassifcation accuracy for Validation Set: 0.624103\n",
      "\n",
      "\n"
     ]
    }
   ],
   "source": [
    "# Create 20 evenly spaced values using logspace\n",
    "num_c_values = 20\n",
    "c_values = np.logspace(-5, 5, num_c_values)\n",
    "\n",
    "# Create a 2D array for each cross-validation fold and parameter setting pair\n",
    "score_array = np.zeros([3,20])\n",
    "\n",
    "cv_fold = 0\n",
    "c_index = 0\n",
    "\n",
    "for train_index, test_index in kf:\n",
    "    X_train, X_test = X_tr[train_index, :], X_tr[test_index, :]\n",
    "    y_train, y_test = y_tr.iloc[train_index], y_tr.iloc[test_index]\n",
    "    \n",
    "    for c in c_values:\n",
    "        lr_loop = LogisticRegression(solver='lbfgs', C=c)\n",
    "        lr_loop.fit(X_train, y_train)\n",
    "        score_array[cv_fold, c_index] = lr_loop.score(X_test, y_test)\n",
    "        print(\"KFold: {}, C: {}\".format(cv_fold+1, c))\n",
    "        print('\\tClassifcation accuracy for Training Set:   {:.6f}'.format(lr_loop.score(X_train, y_train)))\n",
    "        print('\\tClassifcation accuracy for Validation Set: {:.6f}'.format(lr_loop.score(X_test, y_test)))\n",
    "        c_index+=1\n",
    "    print(\"\\n\")\n",
    "    c_index=0\n",
    "    cv_fold+=1\n",
    "    "
   ]
  },
  {
   "cell_type": "markdown",
   "metadata": {},
   "source": [
    "<span style=\"color:red\">OK"
   ]
  },
  {
   "cell_type": "markdown",
   "metadata": {},
   "source": [
    "### ========== Question 1.13 ========== \n",
    "Plot the mean classification performance (across CV folds) of the logistic regression classifier against the regularisation parameter `C` by using the range from Question 1.12. Use a logarithmic scale for the x-axis and label both axes appropriately. "
   ]
  },
  {
   "cell_type": "code",
   "execution_count": 95,
   "metadata": {
    "collapsed": false
   },
   "outputs": [
    {
     "data": {
      "image/png": "[encoded data removed]",
      "text/plain": [
       "<matplotlib.figure.Figure at 0x120439f10>"
      ]
     },
     "metadata": {},
     "output_type": "display_data"
    }
   ],
   "source": [
    "means = np.empty([20,1])\n",
    "for i in range(num_c_values):\n",
    "    means[i] = np.mean(score_array[:,i])\n",
    "\n",
    "plt.figure(figsize=(10, 8))\n",
    "plt.semilogx(c_values, means, basex=10, color='darkred', linewidth = 0.5)\n",
    "plt.title('Mean Classification Performace vs. Regularization Parameter C')\n",
    "plt.xlabel('Regularization Parameter C on logarithmic scale')\n",
    "plt.ylabel('Mean Classification Performace (across 3CV folds) of Logistic Regression Classifier')\n",
    "plt.grid(True)\n"
   ]
  },
  {
   "cell_type": "markdown",
   "metadata": {},
   "source": [
    "<span style=\"color:red\">OK"
   ]
  },
  {
   "cell_type": "markdown",
   "metadata": {},
   "source": [
    "### ========== Question 1.14 ==========\n",
    "Find and display the optimal value for the regularisation parameter `C` of the logistic classifier by using your results from Question 1.12. Similarly to Question 1.13, consider the mean classifiation accuracy across CV folds. By using the optimal value (i.e. the one that yields the highest average classification accuracy) train a new `LogisticRegression` classifier and report the classification accuracy on the validation set. *(Hint: Do not pick the optimal value \"by hand\", instead use an appropriate numpy function).*"
   ]
  },
  {
   "cell_type": "code",
   "execution_count": 96,
   "metadata": {
    "collapsed": false
   },
   "outputs": [
    {
     "name": "stdout",
     "output_type": "stream",
     "text": [
      "Optimal C value: 0.00428133239872\n",
      "Classification Accuracy at this C value: 0.710458521238\n"
     ]
    }
   ],
   "source": [
    "optimum = c_values[np.argmax(means)]\n",
    "print(\"Optimal C value: {}\".format(optimum))\n",
    "print(\"Classification Accuracy at this C value: {}\".format(np.max(means)))"
   ]
  },
  {
   "cell_type": "markdown",
   "metadata": {},
   "source": [
    "<span style=\"color:red\">OK"
   ]
  },
  {
   "cell_type": "markdown",
   "metadata": {},
   "source": [
    "### ========== Question 1.15 ========== \n",
    "Scikit-learn offers a [`LogisticRegressionCV`](http://scikit-learn.org/0.17/modules/generated/sklearn.linear_model.LogisticRegressionCV.html) module which implements Logistic Regression with builtin cross-validation to find out the optimal `C` parameter. You can specify the range for the `C` parameter, as well as the cross-validation method you want to use with the `Cs` and `cv` parameters, respectively. Use the `C` range you set up in Question 1.12 and the 3-fold cross-validation iterator from Question 1.11. Once again, train the models by using the `lbfgs` optimisation method and display the optimal value for the parameter `C`. Finally, display the classification accuracy on the validation set. Can you verify that your results are consistent with those from Question 1.14?"
   ]
  },
  {
   "cell_type": "code",
   "execution_count": 97,
   "metadata": {
    "collapsed": false
   },
   "outputs": [
    {
     "name": "stdout",
     "output_type": "stream",
     "text": [
      "Optimal C value: [ 0.004]\n",
      "Classification accuracy on validation set: 0.696316\n"
     ]
    }
   ],
   "source": [
    "lrcv = LogisticRegressionCV(Cs=c_values, cv=kf, solver='lbfgs')\n",
    "lrcv.fit(X_tr, y_tr)\n",
    "\n",
    "optimum_lrcv = lrcv.C_\n",
    "\n",
    "print(\"Optimal C value: {}\".format(optimum_lrcv))\n",
    "print('Classification accuracy on validation set: {:.6f}'.format(lrcv.score(X_val, y_val)))\n",
    "\n",
    "#print(lrcv.scores_[1].max())\n"
   ]
  },
  {
   "cell_type": "markdown",
   "metadata": {},
   "source": [
    "<span style=\"color:red\">OK"
   ]
  },
  {
   "cell_type": "markdown",
   "metadata": {},
   "source": [
    "### ========== Question 1.16 ==========\n",
    "Now, we want to validate the importance of various features for classification. For this purpose, we will use a [`RandomForestClassifier`](http://scikit-learn.org/0.17/modules/generated/sklearn.ensemble.RandomForestClassifier.html) (you might want to refer to Lab_3 if you are unsure how we can estimate feature importances with decision tree and random forest models).\n",
    "\n",
    "Initialise a random forest classifier and fit the model by using training data only and 500 trees (i.e. `n_estimators`). Set the `RandomState` equal to 31 to ensure reproducible results. Report the accuracy score on both the training and validation sets."
   ]
  },
  {
   "cell_type": "code",
   "execution_count": 98,
   "metadata": {
    "collapsed": false
   },
   "outputs": [
    {
     "name": "stdout",
     "output_type": "stream",
     "text": [
      "Accuracy Score for Training Set: 1.0\n",
      "Accuracy Score for Validation Set: 0.700808625337\n"
     ]
    }
   ],
   "source": [
    "# Initialise a random forest classifier and fit the model\n",
    "rf = RandomForestClassifier(n_estimators=500, random_state=31)\n",
    "rf.fit(X_tr, y_tr)\n",
    "\n",
    "# Get predictions for training set and validation set\n",
    "y_predict_tr = rf.predict(X=X_tr)\n",
    "y_predict_val = rf.predict(X=X_val)\n",
    "\n",
    "# Get accuracy score for training set and validation set\n",
    "print(\"Accuracy Score for Training Set: {}\".format(accuracy_score(y_tr, y_predict_tr)))\n",
    "print(\"Accuracy Score for Validation Set: {}\".format(accuracy_score(y_val, y_predict_val)))"
   ]
  },
  {
   "cell_type": "markdown",
   "metadata": {},
   "source": [
    "<span style=\"color:red\">OK"
   ]
  },
  {
   "cell_type": "markdown",
   "metadata": {},
   "source": [
    "### ========== Question 1.17 ==========\n",
    "Comment on the results above. Do you find the discrepancy between training and validation accuracies surprising?"
   ]
  },
  {
   "cell_type": "markdown",
   "metadata": {},
   "source": [
    "Yes, I find this very surprising. I have never seen an accuracy score of 100% before; this seems way too high. The model performed significantly worse on the validation set. Normally it is expected that the model will perform worse on the validation set than on the training set, but not by more than 30%."
   ]
  },
  {
   "cell_type": "markdown",
   "metadata": {},
   "source": [
    "<span style=\"color:red\">normal for unbounded depth RF, you were supposed to use your knowledge of RF to explain that"
   ]
  },
  {
   "cell_type": "markdown",
   "metadata": {},
   "source": [
    "### ========== Question 1.18 ==========\n",
    "By using the random forest model from the previous question order the features by descending importance and display the names of the 50 most important features."
   ]
  },
  {
   "cell_type": "code",
   "execution_count": 99,
   "metadata": {
    "collapsed": false
   },
   "outputs": [
    {
     "name": "stdout",
     "output_type": "stream",
     "text": [
      "Feature ranking:\n",
      "1. dim21 (0.008335)\n",
      "2. dim479 (0.006743)\n",
      "3. dim360 (0.006573)\n",
      "4. dim283 (0.006489)\n",
      "5. dim51 (0.006333)\n",
      "6. dim76 (0.006276)\n",
      "7. dim4 (0.005398)\n",
      "8. dim461 (0.005099)\n",
      "9. dim330 (0.005098)\n",
      "10. dim398 (0.005033)\n",
      "11. dim343 (0.004953)\n",
      "12. dim222 (0.004787)\n",
      "13. dim274 (0.004644)\n",
      "14. dim217 (0.004518)\n",
      "15. dim485 (0.004488)\n",
      "16. dim423 (0.004456)\n",
      "17. dim263 (0.004446)\n",
      "18. dim356 (0.004366)\n",
      "19. dim347 (0.004307)\n",
      "20. dim74 (0.004264)\n",
      "21. dim214 (0.004226)\n",
      "22. dim500 (0.004102)\n",
      "23. dim329 (0.004051)\n",
      "24. dim92 (0.004048)\n",
      "25. dim54 (0.004025)\n",
      "26. dim326 (0.004004)\n",
      "27. dim90 (0.003917)\n",
      "28. dim348 (0.003910)\n",
      "29. dim312 (0.003849)\n",
      "30. dim154 (0.003785)\n",
      "31. dim483 (0.003772)\n",
      "32. dim25 (0.003753)\n",
      "33. dim289 (0.003738)\n",
      "34. dim77 (0.003680)\n",
      "35. dim134 (0.003672)\n",
      "36. dim254 (0.003636)\n",
      "37. dim427 (0.003617)\n",
      "38. dim288 (0.003596)\n",
      "39. dim73 (0.003556)\n",
      "40. dim322 (0.003532)\n",
      "41. dim440 (0.003501)\n",
      "42. dim17 (0.003470)\n",
      "43. dim353 (0.003468)\n",
      "44. dim206 (0.003337)\n",
      "45. dim171 (0.003235)\n",
      "46. dim442 (0.003209)\n",
      "47. dim85 (0.003161)\n",
      "48. dim96 (0.003158)\n",
      "49. dim35 (0.003097)\n",
      "50. dim48 (0.002967)\n"
     ]
    }
   ],
   "source": [
    "importances = rf.feature_importances_\n",
    "indices = np.argsort(importances)[::-1]\n",
    "\n",
    "# Print the feature ranking\n",
    "print(\"Feature ranking:\")\n",
    "for f in range(50):\n",
    "    print(\"%d. %s (%f)\" % (f + 1, attributes_of_interest[indices[f]], importances[indices[f]]))\n"
   ]
  },
  {
   "cell_type": "markdown",
   "metadata": {},
   "source": [
    "<span style=\"color:red\">OK"
   ]
  },
  {
   "cell_type": "markdown",
   "metadata": {},
   "source": [
    "### ========== Question 1.19 ==========\n",
    "Next, we would like to test out the performance of support vector classification and experiment with different kernels. \n",
    "By using training data only and default parameter settings, train three support vector classifiers with the following kernels: linear, radial basis function, and polynomial. Report the classification accuracy of each of the three classifiers on both the training and validation sets."
   ]
  },
  {
   "cell_type": "code",
   "execution_count": 100,
   "metadata": {
    "collapsed": false
   },
   "outputs": [
    {
     "name": "stdout",
     "output_type": "stream",
     "text": [
      "Linear SVC classification accuracy on training set: 0.842\n",
      "Linear SVC classification accuracy on test set: 0.639\n",
      "\n",
      "RBF SVC classification accuracy on training set: 0.911\n",
      "RBF SVC classification accuracy on test set: 0.730\n",
      "\n",
      "Poly SVC classification accuracy on training set: 0.991\n",
      "Poly SVC classification accuracy on test set: 0.702\n"
     ]
    }
   ],
   "source": [
    "# Train 3 SVC models with different kernels\n",
    "svc_linear = SVC(kernel='linear')\n",
    "svc_rbf = SVC(kernel='rbf')\n",
    "svc_poly = SVC(kernel='poly')\n",
    "\n",
    "# fit the 3 SVC models\n",
    "svc_linear.fit(X_tr, y_tr)\n",
    "svc_rbf.fit(X_tr, y_tr)\n",
    "svc_poly.fit(X_tr, y_tr)\n",
    "\n",
    "# Report classification accuracy of the training and validation sets\n",
    "print('Linear SVC classification accuracy on training set: {:.3f}'.format(svc_linear.score(X_tr, y_tr)))\n",
    "print('Linear SVC classification accuracy on test set: {:.3f}'.format(svc_linear.score(X_val, y_val)))\n",
    "print('\\nRBF SVC classification accuracy on training set: {:.3f}'.format(svc_rbf.score(X_tr, y_tr)))\n",
    "print('RBF SVC classification accuracy on test set: {:.3f}'.format(svc_rbf.score(X_val, y_val)))\n",
    "print('\\nPoly SVC classification accuracy on training set: {:.3f}'.format(svc_poly.score(X_tr, y_tr)))\n",
    "print('Poly SVC classification accuracy on test set: {:.3f}'.format(svc_poly.score(X_val, y_val)))"
   ]
  },
  {
   "cell_type": "markdown",
   "metadata": {},
   "source": [
    "<span style=\"color:red\">OK"
   ]
  },
  {
   "cell_type": "markdown",
   "metadata": {},
   "source": [
    "### ========== Question 1.20 ==========\n",
    "At this point, we would like to get an idea of what kind of decision boundaries we can get with the three types of SVM kernels we introduced in the previous question. For visualisation, however, we can only make use of 2D input data. For this purpose, we select to use the 21st and 76th columns of our training features (*hint: remember that Python uses 0-based indexing*). \n",
    "\n",
    "Execute the cell below to define a useful function which we will be using to plot the decision boundaries *(it is also not a bad idea to try to understand what this functions does)*. \n",
    "\n",
    "Then train three distinct SVM classifiers by using the 2D input data mentioned above and default parameters:\n",
    "* a linear SVC\n",
    "* an RBF SVC \n",
    "* a polynomial SVC\n",
    "\n",
    "Finally, create a list containing the three classifiers you have just trained. Use this list as an input to the provided function along with the used training features and observe the outcome. You can use the additional `title` parameter to set the titles in the subplots. Comment on the results by using 1-2 sentences.\n",
    "\n",
    "*(Acknowledgement: this Question has been heavily based on [this example](http://scikit-learn.org/0.17/auto_examples/svm/plot_iris.html) from scikit-learn's documentation.)*"
   ]
  },
  {
   "cell_type": "code",
   "execution_count": 101,
   "metadata": {
    "collapsed": true
   },
   "outputs": [],
   "source": [
    "def show_svc_decision_boundaries(clfs, X, title=None):\n",
    "    \"\"\"Plots decision boundaries for classifiers with 2D inputs.\n",
    "    \n",
    "    Parameters\n",
    "    ----------\n",
    "    clf : list\n",
    "        Classifiers for which decision boundaries will be displayed.\n",
    "    X : array\n",
    "        Input features used to train the classifiers.\n",
    "    title : list, optional\n",
    "        Titles for classifiers.\n",
    "    \n",
    "    \"\"\"\n",
    "    \n",
    "    assert X.shape[1] == 2 # Input should be 2D\n",
    "    if title is not None:\n",
    "        assert len(clfs) == len(title)\n",
    "    \n",
    "    h = .04 # step size in the mesh\n",
    "    x_min, x_max = X[:, 0].min() - 1, X[:, 0].max() + 1\n",
    "    y_min, y_max = X[:, 1].min() - 1, X[:, 1].max() + 1\n",
    "    xx, yy = np.meshgrid(np.arange(x_min, x_max, h),\n",
    "                         np.arange(y_min, y_max, h))\n",
    "    plt.figure(figsize=(15,5))\n",
    "    for i, clf in enumerate(clfs):\n",
    "        plt.subplot(1, len(clfs), i + 1)\n",
    "        plt.subplots_adjust(wspace=0.4, hspace=0.4)\n",
    "        Z = clf.predict(np.c_[xx.ravel(), yy.ravel()])\n",
    "        Z = Z.reshape(xx.shape)\n",
    "        plt.contourf(xx, yy, Z, cmap=plt.cm.Paired, alpha=0.8)\n",
    "        # Training points\n",
    "        plt.scatter(X[:, 0], X[:, 1], c=y_tr, cmap=plt.cm.Paired)\n",
    "        plt.xlabel('Feature 1')\n",
    "        plt.ylabel('Feature 2')\n",
    "        plt.xlim(xx.min(), xx.max())\n",
    "        plt.ylim(yy.min(), yy.max())\n",
    "        plt.xticks(())\n",
    "        plt.yticks(())\n",
    "        if title is not None:\n",
    "            plt.title(title[i])"
   ]
  },
  {
   "cell_type": "code",
   "execution_count": 102,
   "metadata": {
    "collapsed": false
   },
   "outputs": [
    {
     "data": {
      "image/png": "[encoded data removed]",
      "text/plain": [
       "<matplotlib.figure.Figure at 0x11837ebd0>"
      ]
     },
     "metadata": {},
     "output_type": "display_data"
    }
   ],
   "source": [
    "# get 2D input data\n",
    "X_2d = X_tr[:, [20,75]]\n",
    "\n",
    "# Train 3 SVC models with different kernels\n",
    "svc_linear2 = SVC(kernel='linear')\n",
    "svc_rbf2 = SVC(kernel='rbf')\n",
    "svc_poly2 = SVC(kernel='poly')\n",
    "\n",
    "# fit the 3 SVC models\n",
    "svc_linear2.fit(X_2d, y_tr)\n",
    "svc_rbf2.fit(X_2d, y_tr)\n",
    "svc_poly2.fit(X_2d, y_tr)\n",
    "\n",
    "# create classifier list\n",
    "class_list = []\n",
    "class_list.append(svc_linear2)\n",
    "class_list.append(svc_rbf2)\n",
    "class_list.append(svc_poly2)\n",
    "\n",
    "# Plot results\n",
    "show_svc_decision_boundaries(class_list, X_2d, ['Linear SVC','Radial Basis Function SVC', 'Polynomial SVC'])"
   ]
  },
  {
   "cell_type": "markdown",
   "metadata": {},
   "source": [
    "I find these results very surprising. It seems like the Radial Basis Function SVC performs the best at separating the data, bit it still looks like there is a lot of missclassification. This explains the relative low classifcation accuracy scores I've been getting above (hovering around .6)."
   ]
  },
  {
   "cell_type": "markdown",
   "metadata": {},
   "source": [
    "<span style=\"color:red\">fine, any difference between poly and rbf?"
   ]
  },
  {
   "cell_type": "markdown",
   "metadata": {},
   "source": [
    "### ========== Question 1.21 ==========\n",
    "So far we have used default parameters for training the SVM classifiers. Now we want to tune the parameters by using cross-validation. \n",
    "\n",
    "By using the `K-fold` iterator from Question 1.11 and training data only, estimate the classification accuracy of an SVM classifier with RBF kernel, while you vary the penalty parameter `C` in a logarithmic range `np.logspace(-2, 3, 10)`. Set the kernel coefficient parameter `gamma` to `auto` for this question. \n",
    "\n",
    "Plot the mean cross-validated classification accuracy against the regularisation parameter `C` by using a log-scale for the x-axis. Display the highest obtained mean accuracy score and the value of `C` which yielded it. Label axes appropriately. \n",
    "\n",
    "Finally, train a classifier by using the optimal value for this parameter (without using cross-validation at this stage) and report the classification accuracy on the training and validation sets. "
   ]
  },
  {
   "cell_type": "code",
   "execution_count": 103,
   "metadata": {
    "collapsed": false
   },
   "outputs": [
    {
     "name": "stdout",
     "output_type": "stream",
     "text": [
      "Optimal C value: 1.6681005372\n",
      "Classification Accuracy at this C value: 0.715230644637\n",
      "\n",
      "Classification Accuracy of Training Set with Optimal Classifier: 0.974677496417\n",
      "Classification Accuracy of Validation Set with Optimal Classifier: 0.727762803235\n"
     ]
    },
    {
     "data": {
      "image/png": "[encoded data removed]",
      "text/plain": [
       "<matplotlib.figure.Figure at 0x11e9d7c50>"
      ]
     },
     "metadata": {},
     "output_type": "display_data"
    }
   ],
   "source": [
    "# penalty parameter C in a logarithmic range\n",
    "num_penalties = 10\n",
    "penalties = np.logspace(-2, 3, num_penalties)\n",
    "\n",
    "# Create a 2D array for each cross-validation fold and parameter setting pair\n",
    "svc_score_array = np.zeros([3,num_penalties])\n",
    "\n",
    "cv_fold = 0\n",
    "c_index = 0\n",
    "\n",
    "for train_index, test_index in kf:\n",
    "    X_train, X_test = X_tr[train_index, :], X_tr[test_index, :]\n",
    "    y_train, y_test = y_tr.iloc[train_index], y_tr.iloc[test_index]\n",
    "    \n",
    "    for c in penalties:\n",
    "        svc = SVC(kernel='rbf', C=c, gamma='auto')\n",
    "        svc.fit(X_train, y_train)\n",
    "        svc_score_array[cv_fold, c_index] = svc.score(X_test, y_test)\n",
    "        c_index+=1\n",
    "        \n",
    "    c_index=0\n",
    "    cv_fold+=1\n",
    "    \n",
    "# get mean cross validation score for each kfold\n",
    "means2 = np.empty([num_penalties,1])\n",
    "for i in range(num_penalties):\n",
    "    means2[i] = np.mean(svc_score_array[:,i])\n",
    "    \n",
    "# Plot Results\n",
    "plt.figure(figsize=(10, 8))\n",
    "plt.semilogx(penalties, means2, basex=10, color='darkred', linewidth = 0.5)\n",
    "plt.title('Mean Classification Performace vs. Regularization Parameter C')\n",
    "plt.xlabel('Regularization Parameter C on logarithmic scale')\n",
    "plt.ylabel('Mean Classification Performace (across 3CV folds) of Support Vector Classifier')\n",
    "plt.grid(True)\n",
    "\n",
    "# get Optimum\n",
    "optimum = penalties[np.argmax(means2)]\n",
    "print(\"Optimal C value: {}\".format(optimum))\n",
    "print(\"Classification Accuracy at this C value: {}\".format(np.max(means2)))\n",
    "\n",
    "# train classifier with this optimum\n",
    "svc_optimal = SVC(C=optimum)\n",
    "svc_optimal.fit(X_tr, y_tr)\n",
    "print(\"\\nClassification Accuracy of Training Set with Optimal Classifier: {}\".format(svc_optimal.score(X_tr, y_tr)))\n",
    "print(\"Classification Accuracy of Validation Set with Optimal Classifier: {}\".format(svc_optimal.score(X_val, y_val)))\n"
   ]
  },
  {
   "cell_type": "markdown",
   "metadata": {},
   "source": [
    "<span style=\"color:red\">OK"
   ]
  },
  {
   "cell_type": "markdown",
   "metadata": {},
   "source": [
    "### ========== Question 1.22 ==========\n",
    "Now we turn to the kernel coefficient `gamma` parameter. By using the same procedure as in the previous question, estimate the classification accuracy of an SVM classifier with RBF kernel while you vary the `gamma` parameter in a logarithmic range `logspace(-5, 0, 10)`. Fix the penalty parameter `C=1.0`.\n",
    "\n",
    "Plot the mean cross-validated classification accuracy against the parameter `gamma` by using a log-scale for the x-axis. Display the highest obtained mean accuracy score and the value of `gamma` which yielded it.  Label axes appropriately.\n",
    "\n",
    "Finally, train a classifier by using the optimal value for this parameter (without using cross-validation at this stage) and report the classification accuracy on the training and validation sets. "
   ]
  },
  {
   "cell_type": "code",
   "execution_count": 104,
   "metadata": {
    "collapsed": false
   },
   "outputs": [
    {
     "name": "stdout",
     "output_type": "stream",
     "text": [
      "Optimal Gamma value: 0.0016681005372\n",
      "Classification Accuracy at this Gamma value: 0.716185754475\n",
      "\n",
      "Classification Accuracy of Training Set with Optimal Classifier: 0.891065456283\n",
      "Classification Accuracy of Validation Set with Optimal Classifier: 0.726864330638\n"
     ]
    },
    {
     "data": {
      "image/png": "[encoded data removed]",
      "text/plain": [
       "<matplotlib.figure.Figure at 0x11e9afe90>"
      ]
     },
     "metadata": {},
     "output_type": "display_data"
    }
   ],
   "source": [
    "# kernel coefficient parameter gamma in a logarithmic range\n",
    "num_gammas = 10\n",
    "gammas = np.logspace(-5, 0, num_gammas)\n",
    "\n",
    "# Create a 2D array for each cross-validation fold and parameter setting pair\n",
    "gamma_score_array = np.zeros([3,num_gammas])\n",
    "\n",
    "cv_fold = 0\n",
    "c_index = 0\n",
    "\n",
    "for train_index, test_index in kf:\n",
    "    X_train, X_test = X_tr[train_index, :], X_tr[test_index, :]\n",
    "    y_train, y_test = y_tr.iloc[train_index], y_tr.iloc[test_index]\n",
    "    \n",
    "    for g in gammas:\n",
    "        svc_gamma = SVC(kernel='rbf', C=1.0, gamma=g)\n",
    "        svc_gamma.fit(X_train, y_train)\n",
    "        gamma_score_array[cv_fold, c_index] = svc_gamma.score(X_test, y_test)\n",
    "        c_index+=1\n",
    "        \n",
    "    c_index=0\n",
    "    cv_fold+=1\n",
    "    \n",
    "# get mean cross validation score for each kfold\n",
    "means_gamma = np.empty([num_gammas,1])\n",
    "for i in range(num_gammas):\n",
    "    means_gamma[i] = np.mean(gamma_score_array[:,i])\n",
    "    \n",
    "# Plot Results\n",
    "plt.figure(figsize=(10, 8))\n",
    "plt.semilogx(gammas, means_gamma, basex=10, color='darkred', linewidth = 0.5)\n",
    "plt.title('Mean Classification Performace vs. Kernel Coefficent Gamma')\n",
    "plt.xlabel('Kernel Coefficent Gamma on logarithmic scale')\n",
    "plt.ylabel('Mean Classification Performace (across 3CV folds) of Support Vector Classifier')\n",
    "plt.grid(True)\n",
    "\n",
    "# get Optimum\n",
    "optimum_gamma = gammas[np.argmax(means_gamma)]\n",
    "print(\"Optimal Gamma value: {}\".format(optimum_gamma))\n",
    "print(\"Classification Accuracy at this Gamma value: {}\".format(np.max(means_gamma)))\n",
    "\n",
    "# train classifier with this optimum\n",
    "svc_optimal_gamma = SVC(C=1.0, gamma=optimum_gamma)\n",
    "svc_optimal_gamma.fit(X_tr, y_tr)\n",
    "print(\"\\nClassification Accuracy of Training Set with Optimal Classifier: {}\".format(svc_optimal_gamma.score(X_tr, y_tr)))\n",
    "print(\"Classification Accuracy of Validation Set with Optimal Classifier: {}\".format(svc_optimal_gamma.score(X_val, y_val)))\n"
   ]
  },
  {
   "cell_type": "markdown",
   "metadata": {},
   "source": [
    "<span style=\"color:red\">OK"
   ]
  },
  {
   "cell_type": "markdown",
   "metadata": {},
   "source": [
    "### ========== Question 1.23 ==========\n",
    "Now we wish to tune both the `C` and `gamma` parameters simultaneously. To save computational time, we will now constrain the parameter search space. Define a `4 X 4` grid for the two parameters, as follows:\n",
    "* `C`: `np.logspace(-2, 1, 4)`\n",
    "* `gamma`: `np.logspace(-4, -1, 4)`\n",
    "\n",
    "Estimate the mean cross-validated classification accuracy by using training data only and all possible configurations for the two parameters. \n",
    "\n",
    "Use a [heatmap](https://seaborn.github.io/generated/seaborn.heatmap.html?highlight=heatmap#seaborn.heatmap) to visualise the mean cross-validated classification accuracy for all `C`-`gamma` pairs. Label axes appropriately and display the values for `C` and `gamma` for the best performing configuration. \n",
    "\n",
    "Finally, by using the optimal configuration, train a classifier (without using cross-validation) and report the classification accuracy on the training and validation sets."
   ]
  },
  {
   "cell_type": "code",
   "execution_count": 105,
   "metadata": {
    "collapsed": false
   },
   "outputs": [
    {
     "name": "stdout",
     "output_type": "stream",
     "text": [
      "[[[ 0.56   0.56   0.56   0.56 ]\n",
      "  [ 0.56   0.676  0.56   0.56 ]\n",
      "  [ 0.673  0.708  0.658  0.56 ]\n",
      "  [ 0.699  0.692  0.67   0.56 ]]\n",
      "\n",
      " [[ 0.546  0.546  0.546  0.546]\n",
      "  [ 0.546  0.696  0.546  0.546]\n",
      "  [ 0.708  0.742  0.649  0.546]\n",
      "  [ 0.738  0.699  0.679  0.546]]\n",
      "\n",
      " [[ 0.547  0.547  0.547  0.547]\n",
      "  [ 0.547  0.677  0.547  0.547]\n",
      "  [ 0.663  0.687  0.631  0.547]\n",
      "  [ 0.693  0.681  0.641  0.547]]]\n"
     ]
    }
   ],
   "source": [
    "C = np.logspace(-2, 1, 4)\n",
    "gamma = np.logspace(-4, -1, 4)\n",
    "\n",
    "cg_score_array = np.zeros([3,4,4])\n",
    "\n",
    "cv_fold=0; c_index=0; gamma_index=0\n",
    "\n",
    "for train_index, test_index in kf:\n",
    "    X_train, X_test = X_tr[train_index, :], X_tr[test_index, :]\n",
    "    y_train, y_test = y_tr.iloc[train_index], y_tr.iloc[test_index]\n",
    "    \n",
    "    for g in gamma:\n",
    "        for c in C:\n",
    "            svc_cg = SVC(kernel='rbf', C=c, gamma=g)\n",
    "            svc_cg.fit(X_train, y_train)\n",
    "            cg_score_array[cv_fold, c_index, gamma_index] = svc_cg.score(X_test, y_test)\n",
    "            c_index+=1\n",
    "        gamma_index+=1\n",
    "        c_index=0\n",
    "        \n",
    "    c_index=0\n",
    "    gamma_index=0\n",
    "    cv_fold+=1\n",
    "\n",
    "print(cg_score_array)"
   ]
  },
  {
   "cell_type": "markdown",
   "metadata": {},
   "source": [
    "<span style=\"color:red\">OK"
   ]
  },
  {
   "cell_type": "code",
   "execution_count": 106,
   "metadata": {
    "collapsed": false
   },
   "outputs": [
    {
     "data": {
      "text/plain": [
       "<matplotlib.text.Text at 0x11ffccf50>"
      ]
     },
     "execution_count": 106,
     "metadata": {},
     "output_type": "execute_result"
    },
    {
     "data": {
      "image/png": "[encoded data removed]",
      "text/plain": [
       "<matplotlib.figure.Figure at 0x118efd5d0>"
      ]
     },
     "metadata": {},
     "output_type": "display_data"
    }
   ],
   "source": [
    "# create 2D array for means\n",
    "cg_means = np.zeros([4,4])\n",
    "for i in range(4):\n",
    "    for j in range(4):\n",
    "        cg_means[i,j] = np.mean(cg_score_array[:,i,j])\n",
    "\n",
    "ax = sns.heatmap(cg_means, xticklabels=C[::-1], yticklabels=gamma[::-1], annot=True, linewidths=.5)\n",
    "ax.set_xlabel('C values')\n",
    "ax.set_ylabel('Gamma values')"
   ]
  },
  {
   "cell_type": "markdown",
   "metadata": {},
   "source": [
    "<span style=\"color:red\">OK"
   ]
  },
  {
   "cell_type": "code",
   "execution_count": 107,
   "metadata": {
    "collapsed": false
   },
   "outputs": [
    {
     "name": "stdout",
     "output_type": "stream",
     "text": [
      "optimal gamma: 0.001\n",
      "optimal c: 1.0\n",
      "\n",
      "Classification Accuracy of Training Set with Optimal Classifier: 0.834687052078\n",
      "Classification Accuracy of Validation Set with Optimal Classifier: 0.721473495058\n"
     ]
    }
   ],
   "source": [
    "# Get Optimal C and gamma values\n",
    "cg_optimum = unravel_index(cg_means.argmax(), cg_means.shape)\n",
    "g_optimum = gamma[cg_optimum[1]]\n",
    "c_optimum = C[cg_optimum[0]]\n",
    "\n",
    "print(\"optimal gamma: {}\".format(g_optimum))\n",
    "print(\"optimal c: {}\".format(c_optimum))\n",
    "\n",
    "# using the optimal configuration, train a classifier\n",
    "opt_svc = SVC(C=c_optimum, gamma=g_optimum)\n",
    "opt_svc.fit(X=X_tr, y=y_tr)\n",
    "\n",
    "print(\"\\nClassification Accuracy of Training Set with Optimal Classifier: {}\".format(opt_svc.score(X_tr, y_tr)))\n",
    "print(\"Classification Accuracy of Validation Set with Optimal Classifier: {}\".format(opt_svc.score(X_val, y_val)))"
   ]
  },
  {
   "cell_type": "markdown",
   "metadata": {},
   "source": [
    "### ========== Question 1.24 ==========\n",
    "Is the classification accuracy on the validation set higher than in previous questions (1.22-1.23)? If not, can you explain why? Can you think of a way of further improving the performance of the classifier? You don't need to implement your suggestion at this stage. Would there be any associated problems with your suggested approach? "
   ]
  },
  {
   "cell_type": "markdown",
   "metadata": {},
   "source": [
    "The classifcation accuracy score is roughly the same as in previous questions (1.22-1.23). I think this is because we already found where the optimal gamma and c values lie in those questions. In order to more accuretly fine tune we would need to generate values that hover around the numbers we already found (ie, C=.4 and gamma=.001). Perhaps something like:\n",
    "\n",
    "C = np.logspace(-1, 0, 4) and \n",
    "gamma = np.logspace(-3, -2, 4)"
   ]
  },
  {
   "cell_type": "markdown",
   "metadata": {},
   "source": [
    "<span style=\"color:red\">fine, but what would be the problem with higher resolution of search"
   ]
  },
  {
   "cell_type": "markdown",
   "metadata": {},
   "source": [
    "### ========== Question 1.25 ==========\n",
    "Now we want to evaluate the performance of an SVM classifier with polynomial kernel. Once again, we will tune the `degree` parameter by using cross-validation (similarly to what we did in Questions 1.21 and 1.22).\n",
    "\n",
    "By using the `K-fold` iterator from Question 1.11 and training data only, estimate the classification accuracy of polynomial SVM classifier, while you vary the `degree` parameter in the range `np.arange(1,8)`. \n",
    "\n",
    "Plot the mean cross-validated classification accuracy against the polynomial degree. Display the highest obtained mean accuracy score and the value of the `degree` parameter which yielded it. Label axes appropriately. \n",
    "\n",
    "Finally, train a classifier by using the optimal value for this parameter (without using cross-validation at this stage) and report the classification accuracy on the training and validation sets. "
   ]
  },
  {
   "cell_type": "code",
   "execution_count": 108,
   "metadata": {
    "collapsed": false
   },
   "outputs": [],
   "source": [
    "degrees = np.arange(1,8)\n",
    "\n",
    "# Create a 2D array for each cross-validation fold and parameter setting pair\n",
    "degree_score_array = np.zeros([3,7])\n",
    "\n",
    "cv_fold = 0\n",
    "d_index = 0\n",
    "\n",
    "for train_index, test_index in kf:\n",
    "    X_train, X_test = X_tr[train_index, :], X_tr[test_index, :]\n",
    "    y_train, y_test = y_tr.iloc[train_index], y_tr.iloc[test_index]\n",
    "    \n",
    "    for d in degrees:\n",
    "        svc_degree = SVC(kernel='poly', degree=d)\n",
    "        svc_degree.fit(X_train, y_train)\n",
    "        degree_score_array[cv_fold, d_index] = svc_degree.score(X_test, y_test)\n",
    "        d_index+=1\n",
    "        \n",
    "    d_index=0\n",
    "    cv_fold+=1\n",
    "\n",
    "# get mean cross validation score for each kfold\n",
    "means_degree = np.empty(7)\n",
    "for i in range(7):\n",
    "    means_degree[i] = np.mean(degree_score_array[:,i])\n",
    "\n"
   ]
  },
  {
   "cell_type": "markdown",
   "metadata": {},
   "source": [
    "<span style=\"color:red\">OK"
   ]
  },
  {
   "cell_type": "code",
   "execution_count": 109,
   "metadata": {
    "collapsed": false
   },
   "outputs": [
    {
     "name": "stdout",
     "output_type": "stream",
     "text": [
      "Optimal Polynomial Degree: 1\n",
      "Classification Accuracy at this Degree: 0.702810105802\n",
      "\n",
      "Classification Accuracy of Training Set with Optimal Classifier: 0.783564261825\n",
      "Classification Accuracy of Validation Set with Optimal Classifier: 0.689128481581\n"
     ]
    },
    {
     "data": {
      "image/png": "[encoded data removed]",
      "text/plain": [
       "<matplotlib.figure.Figure at 0x1204bb2d0>"
      ]
     },
     "metadata": {},
     "output_type": "display_data"
    }
   ],
   "source": [
    "# Plot Results\n",
    "plt.figure(figsize=(10, 8))\n",
    "plt.plot(degrees, means_degree, 'go-', linewidth=.5)\n",
    "plt.title('Mean Classification Performace vs. Polynomial Degree')\n",
    "plt.xlabel('Polynomial Degree')\n",
    "plt.ylabel('Mean Classification Performace (across 3CV folds) of Support Vector Classifier')\n",
    "plt.grid(True)\n",
    "\n",
    "# get Optimum\n",
    "optimum_degree = degrees[np.argmax(means_degree)]\n",
    "print(\"Optimal Polynomial Degree: {}\".format(optimum_degree))\n",
    "print(\"Classification Accuracy at this Degree: {}\".format(np.max(means_degree)))\n",
    "\n",
    "# train classifier with this optimum\n",
    "svc_optimal_degree = SVC(kernel='poly', degree=optimum_degree)\n",
    "svc_optimal_degree.fit(X_tr, y_tr)\n",
    "print(\"\\nClassification Accuracy of Training Set with Optimal Classifier: {}\".format(svc_optimal_degree.score(X_tr, y_tr)))\n",
    "print(\"Classification Accuracy of Validation Set with Optimal Classifier: {}\".format(svc_optimal_degree.score(X_val, y_val)))\n"
   ]
  },
  {
   "cell_type": "markdown",
   "metadata": {},
   "source": [
    "### ========== Question 1.26 ==========\n",
    "\n",
    "You might have noticted that so far, we have used cross-validation for optimising the various tuning parameters (e.g. regularisation parameter in logistic regression, SVM kernel parameters) rather than hold-out validation, although we did have access to a validation set. Why do you think this is a good/bad idea? Give one advantage and one disadvantage of the two different approaches. Which one would you trust more in practice?"
   ]
  },
  {
   "cell_type": "markdown",
   "metadata": {},
   "source": [
    "I think it is good to use cross-validation for optimising parameters; however, cross validation didn't make much of a difference when optimizing, it often changed a very small insignificant part of the value were were trying to optimize. I think we would have had better results if we utilized the validation set. As you can see from our results in questions in questions 1.21-1.25, we perform signifantly better on the Training Set than the Validation Set. If we utilized the validation set, we might see better results on the validation set. "
   ]
  },
  {
   "cell_type": "markdown",
   "metadata": {},
   "source": [
    "<span style=\"color:red\">incomplete"
   ]
  },
  {
   "cell_type": "markdown",
   "metadata": {},
   "source": [
    "### ========== Question 1.27 ==========\n",
    "\n",
    "Reload the full training and validation data that contain all indicator variables for all object categories. Remove the `imgId` attribute but keep all of the class indicator variables in the dataset this time. Your training features should include all attributes except `is_person` which should be your target variable. \n",
    "\n",
    "Once again, use a [StandardScaler](http://scikit-learn.org/0.17/modules/generated/sklearn.preprocessing.StandardScaler.html) to standardise your training and validation features. Then train a Random Forest Classifier by using the entropy `criterion`, 500 `n_estimators`, and also set the `random_state` to 31. Report the classification accuracy on the training and validation sets.\n",
    "\n",
    "Similarly to what we did in Question 1.18, order the features by decreasing importance and display the 50 most important features. \n",
    "\n",
    "Finally, answer the following questions:\n",
    "* What do you notice by looking at the list of the best 50 features?\n",
    "* How does the performance differ with respect to the case when the additional class indicator variables are not present (Question 1.16)? Relate your observations to the observed feature ranking.\n",
    "* Would it be easy to make use of the results in practice? Briey explain your reasoning.\n",
    "\n",
    "*(Hint: you might want to look at some of the [images](http://www.inf.ed.ac.uk/teaching/courses/iaml/2014/assts/asst3/images.html) to justify your explanations.)*"
   ]
  },
  {
   "cell_type": "code",
   "execution_count": 24,
   "metadata": {
    "collapsed": false
   },
   "outputs": [
    {
     "name": "stdout",
     "output_type": "stream",
     "text": [
      "Classification accuracy on training set: 1.000000\n",
      "Classification accuracy on validation set: 0.719677\n",
      "Feature ranking:\n",
      "1. is_cat (0.008605)\n",
      "2. is_bird (0.008318)\n",
      "3. dim21 (0.007989)\n",
      "4. dim51 (0.007203)\n",
      "5. dim360 (0.006534)\n",
      "6. dim76 (0.006491)\n",
      "7. dim479 (0.005844)\n",
      "8. dim4 (0.005513)\n",
      "9. dim398 (0.005442)\n",
      "10. dim461 (0.005089)\n",
      "11. dim283 (0.004917)\n",
      "12. dim330 (0.004818)\n",
      "13. dim485 (0.004817)\n",
      "14. dim423 (0.004735)\n",
      "15. dim343 (0.004729)\n",
      "16. dim348 (0.004682)\n",
      "17. dim217 (0.004490)\n",
      "18. dim222 (0.004384)\n",
      "19. dim74 (0.004349)\n",
      "20. dim274 (0.004332)\n",
      "21. dim90 (0.004315)\n",
      "22. dim288 (0.004271)\n",
      "23. dim214 (0.004245)\n",
      "24. dim356 (0.004061)\n",
      "25. dim263 (0.004058)\n",
      "26. dim254 (0.003957)\n",
      "27. dim500 (0.003826)\n",
      "28. dim483 (0.003770)\n",
      "29. dim347 (0.003701)\n",
      "30. dim134 (0.003592)\n",
      "31. dim326 (0.003534)\n",
      "32. dim154 (0.003496)\n",
      "33. dim35 (0.003453)\n",
      "34. dim322 (0.003439)\n",
      "35. dim289 (0.003439)\n",
      "36. dim329 (0.003417)\n",
      "37. dim73 (0.003400)\n",
      "38. dim92 (0.003330)\n",
      "39. dim17 (0.003295)\n",
      "40. dim427 (0.003216)\n",
      "41. dim430 (0.003192)\n",
      "42. dim77 (0.003187)\n",
      "43. dim207 (0.003147)\n",
      "44. dim353 (0.003141)\n",
      "45. dim54 (0.003116)\n",
      "46. dim312 (0.003115)\n",
      "47. dim282 (0.003100)\n",
      "48. dim160 (0.003079)\n",
      "49. dim85 (0.003036)\n",
      "50. dim48 (0.003028)\n"
     ]
    }
   ],
   "source": [
    "# Load the dataset \n",
    "data_path = os.path.join(os.getcwd(), 'datasets', 'train_images_partA.csv')\n",
    "train_A = pd.read_csv(data_path, delimiter = ',')\n",
    "\n",
    "data_path = os.path.join(os.getcwd(), 'datasets', 'valid_images_partA.csv')\n",
    "valid_A = pd.read_csv(data_path, delimiter = ',')\n",
    "\n",
    "# Remove the imgId attribute\n",
    "train_A = train_A.drop('imgId', axis=1)\n",
    "valid_A = valid_A.drop('imgId', axis=1)\n",
    "\n",
    "# Split Dataset\n",
    "X_tr = train_A.drop('is_person', axis=1)\n",
    "y_tr = train_A['is_person']\n",
    "X_val = valid_A.drop('is_person', axis=1)\n",
    "y_val = valid_A['is_person']\n",
    "\n",
    "# Create Standardiser\n",
    "scaler = preprocessing.StandardScaler().fit(X_tr)\n",
    "\n",
    "# Transform both input and validation input features\n",
    "X_tr = scaler.transform(X_tr)\n",
    "X_val = scaler.transform(X_val)\n",
    "\n",
    "# Train a Random Forest Classifier\n",
    "rf = RandomForestClassifier(n_estimators=500, random_state=31)\n",
    "rf.fit(X_tr, y_tr)\n",
    "print('Classification accuracy on training set: {:.6f}'.format(rf.score(X_tr, y_tr)))\n",
    "print('Classification accuracy on validation set: {:.6f}'.format(rf.score(X_val, y_val)))\n",
    "\n",
    "# Get most important features\n",
    "headers = list(train_A.drop('is_person', axis=1).columns.values)\n",
    "importances = rf.feature_importances_\n",
    "indices = np.argsort(importances)[::-1]\n",
    "\n",
    "# Print the feature ranking\n",
    "print(\"Feature ranking:\")\n",
    "for f in range(50):\n",
    "    print(\"%d. %s (%f)\" % (f + 1, headers[indices[f]], importances[indices[f]]))"
   ]
  },
  {
   "cell_type": "markdown",
   "metadata": {},
   "source": [
    "What do you notice by looking at the list of the best 50 features?\n",
    "Attributes is_cat and is_bird were the two most important features. This makes sense because if you're trying to predict whether the image contains a person, the predictor could confuse a person with other creatures like a car or a bird. But with that logic, then the rest of the class indicator variables should also be in the important features list.\n",
    "\n",
    "How does the performance differ with respect to the case when the additional class indicator variables are not present (Question 1.16)? Relate your observations to the observed feature ranking.\n",
    "Without the additional class indicator variables, the validation set had a classification accuracy of 0.7008\n",
    "With the additional class indicator variables, the validation set had a classifcation accuracy of 0.7196\n",
    "So we only saw a 1% improvement in classification accuracy and it seems like the additional class indicator variables didn't make much of a difference. They also have pretty similar feature imporancy lists, with dim21 and dim479 being close to the top.\n",
    "\n",
    "Would it be easy to make use of the results in practice? Briefly explain your reasoning.\n",
    "Not really, I think this data basically told us that additional class indicator variables are pointless and aren't going to really help your predictor. So I guess it helps in that you don't have to do a much of extra work getting additional class indicator variables to put in your dataset."
   ]
  },
  {
   "cell_type": "markdown",
   "metadata": {},
   "source": [
    "<span style=\"color:red\">you're on the right track but didn't quite get why is_cat and is_bird are so good - it's not because they're easy to confuse with a person but it's because pics with cats or birds rarely contain a person in them too"
   ]
  },
  {
   "cell_type": "markdown",
   "metadata": {},
   "source": [
    "## Mini challenge [30%]"
   ]
  },
  {
   "cell_type": "markdown",
   "metadata": {},
   "source": [
    "*Important: You are allowed to write up to a maximum of 600 words in this part of the assignment. The thoroughness of the exploration and the quality of the resulting discussion is just as important as the final classification performance of your chosen method(s) and credit will be divided accordingly.*"
   ]
  },
  {
   "cell_type": "markdown",
   "metadata": {},
   "source": [
    "In this final part of the assignment we will have a mini object-recognition challenge. Using the data provided you are asked to find the best classiffier for the person/no person classification task. You can apply any preprocessing steps to the data that you think fit and employ any classiffier you like (with the provison that you can explain what the classiffier/preprocessing steps are doing). You can also employ any lessons learnt during the course, either from previous Assignments, the Labs or the lecture material to try and squeeze out as much performance as you possibly can. The only restriction is that all steps must be performed in `Python` by using the `numpy`, `pandas` and `sklearn` packages. You can also make use of `matplotlib` and `seaborn` for visualisation. "
   ]
  },
  {
   "cell_type": "markdown",
   "metadata": {},
   "source": [
    "**Important:** The classification performance metric that we will use for this part is the *cross-entropy* or *logarithmic loss* (see Lab 4). You should familiarise yourself with the metric by reading the `sklearn` [user guide](http://scikit-learn.org/0.17/modules/model_evaluation.html#log-loss) and [documentation](http://scikit-learn.org/0.17/modules/generated/sklearn.metrics.log_loss.html#sklearn.metrics.log_loss). To estimate this metric you will need to evaluate probability outputs, as opposed to discrete predictions which we have used so far to compute classification accuracies. Most models in `sklearn` implement a `predict_proba()` method which returns the posterior probabilities for each class. For instance, if your test set consists of `N` datapoints and there are `K` classes, the method will return a `N` x `K` matrix."
   ]
  },
  {
   "cell_type": "markdown",
   "metadata": {},
   "source": [
    "We provide you with three new data sets: a training set (`train_images_partB.csv`), a validation set (`valid_images_partB.csv`), and a test set (`test_images_partB.csv`). You must use the former two for training and evaluating your models (as you see fit). Once you have chosen your favourite model (and pre-processing steps) you should apply it to the test set (for which no labels are provided). Estimate the posterior proabilities for the data points in the test set and submit your results as part of your answer. Your results will be evaluated in terms of the logarithmic loss metric. You also need to submit a brief description of the approaches you considered, your suggested final approach, and a short explanation of why you chose it. The thoroughness of the exploration and the quality of the resulting discussion is just as important as the final score of your chosen method(s) and credit will be divided accordingly.\n",
    "\n",
    "*Hint: Feature engineering, feature combination, model combination and model parameter optimization can significantly improve performance.*"
   ]
  },
  {
   "cell_type": "markdown",
   "metadata": {},
   "source": [
    "**How to submit your results**: Store the estimated posterior probabilities for the data points in the test set into a 2D numpy array. Then execute the provided cell at the end of this notebook which uses a provided `save_predictions` function to export your results into a `.txt` file (the function will return an error if the provided array has not the right shape). The `.txt` file will be saved where your notebook lives. You are then required to copy this file into your submission folder along with your notebook (see Mecanics section at the top of the notebook) and then submit the two files by using the `submit` command on DICE. You are only required to use the `submit` command once."
   ]
  },
  {
   "cell_type": "markdown",
   "metadata": {},
   "source": [
    "*Your answer goes here (max. 600 words)*\n",
    "\n"
   ]
  },
  {
   "cell_type": "markdown",
   "metadata": {},
   "source": [
    "<span style=\"color:red\"> no answer and poor perfomance of your classifier, 2/10"
   ]
  },
  {
   "cell_type": "code",
   "execution_count": 22,
   "metadata": {
    "collapsed": false
   },
   "outputs": [],
   "source": [
    "# Load the dataset \n",
    "data_path = os.path.join(os.getcwd(), 'datasets', 'train_images_partB.csv')\n",
    "train_B = pd.read_csv(data_path, delimiter = ',')\n",
    "\n",
    "data_path = os.path.join(os.getcwd(), 'datasets', 'valid_images_partB.csv')\n",
    "valid_B = pd.read_csv(data_path, delimiter = ',')\n",
    "\n",
    "data_path = os.path.join(os.getcwd(), 'datasets', 'test_images_partB.csv')\n",
    "test_B = pd.read_csv(data_path, delimiter = ',')\n",
    "\n",
    "# Get attributes\n",
    "attributes_of_interest = train_B.columns[1:501].tolist()\n",
    "\n",
    "# Split Dataset\n",
    "X_tr = train_B[attributes_of_interest]\n",
    "y_tr = train_B['is_person']\n",
    "X_val = valid_B[attributes_of_interest]\n",
    "y_val = valid_B['is_person']\n",
    "X_test = test_B[attributes_of_interest]\n"
   ]
  },
  {
   "cell_type": "code",
   "execution_count": 26,
   "metadata": {
    "collapsed": false
   },
   "outputs": [],
   "source": [
    "# Classifiers to Test\n",
    "names = [\"Nearest Neighbors\", \"Linear SVM\", \"RBF SVM\", \"Polynomial SVM\",\n",
    "         \"Decision Tree\", \"Random Forest\", \"Naive Bayes\"]\n",
    "classifiers = [\n",
    "    KNeighborsClassifier(3), \n",
    "    SVC(kernel=\"linear\", probability=True), SVC(probability=True), SVC(kernel=\"poly\", degree=1, probability=True),\n",
    "    DecisionTreeClassifier(max_depth=5),\n",
    "    RandomForestClassifier(max_depth=5, n_estimators=10, max_features=1),\n",
    "    GaussianNB()]\n",
    "\n",
    "# Preprocess Dataset\n",
    "X_tr = preprocessing.RobustScaler().fit_transform(X_tr)\n",
    "X_val = preprocessing.RobustScaler().fit_transform(X_val)\n",
    "\n",
    "# iterate over classifiers\n",
    "train_scores = np.empty(len(classifiers))\n",
    "val_scores = np.empty(len(classifiers))\n",
    "index = 0\n",
    "\n",
    "for name, clf in zip(names, classifiers):\n",
    "    clf.fit(X_tr, y_tr)\n",
    "    train_scores[index] = clf.score(X_tr, y_tr)\n",
    "    val_scores[index] = clf.score(X_val, y_val)\n",
    "    index += 1\n"
   ]
  }
 ],
 "metadata": {
  "anaconda-cloud": {},
  "kernelspec": {
   "display_name": "Python [iaml]",
   "language": "python",
   "name": "Python [iaml]"
  },
  "language_info": {
   "codemirror_mode": {
    "name": "ipython",
    "version": 2
   },
   "file_extension": ".py",
   "mimetype": "text/x-python",
   "name": "python",
   "nbconvert_exporter": "python",
   "pygments_lexer": "ipython2",
   "version": "2.7.12"
  }
 },
 "nbformat": 4,
 "nbformat_minor": 0
}
